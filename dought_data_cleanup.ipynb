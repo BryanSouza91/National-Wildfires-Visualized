{
 "nbformat": 4,
 "nbformat_minor": 2,
 "metadata": {
  "language_info": {
   "name": "python",
   "codemirror_mode": {
    "name": "ipython",
    "version": 3
   },
   "version": "3.7.3-final"
  },
  "orig_nbformat": 2,
  "file_extension": ".py",
  "mimetype": "text/x-python",
  "name": "python",
  "npconvert_exporter": "python",
  "pygments_lexer": "ipython3",
  "version": 3,
  "kernelspec": {
   "name": "python37364bitbaseconda7e92325aceec41c2ac312d466834af07",
   "display_name": "Python 3.7.3 64-bit ('base': conda)"
  }
 },
 "cells": [
  {
   "cell_type": "code",
   "execution_count": 1,
   "metadata": {},
   "outputs": [],
   "source": [
    "import numpy as np\n",
    "import pandas as pd\n",
    "import os\n",
    "import pymongo"
   ]
  },
  {
   "cell_type": "code",
   "execution_count": 6,
   "metadata": {},
   "outputs": [
    {
     "output_type": "execute_result",
     "data": {
      "text/plain": "    MapDate  FIPS                  County State      None    D0    D1    D2  \\\n0  20151229  2013  Aleutians East Borough    AK  7,023.35  0.00  0.00  0.00   \n1  20151222  2013  Aleutians East Borough    AK  7,023.35  0.00  0.00  0.00   \n2  20151215  2013  Aleutians East Borough    AK  7,023.35  0.00  0.00  0.00   \n3  20151208  2013  Aleutians East Borough    AK  7,023.35  0.00  0.00  0.00   \n4  20151201  2013  Aleutians East Borough    AK  7,023.35  0.00  0.00  0.00   \n\n     D3    D4  ValidStart    ValidEnd  StatisticFormatID  \n0  0.00  0.00  2015-12-29  2016-01-04                  1  \n1  0.00  0.00  2015-12-22  2015-12-28                  1  \n2  0.00  0.00  2015-12-15  2015-12-21                  1  \n3  0.00  0.00  2015-12-08  2015-12-14                  1  \n4  0.00  0.00  2015-12-01  2015-12-07                  1  ",
      "text/html": "<div>\n<style scoped>\n    .dataframe tbody tr th:only-of-type {\n        vertical-align: middle;\n    }\n\n    .dataframe tbody tr th {\n        vertical-align: top;\n    }\n\n    .dataframe thead th {\n        text-align: right;\n    }\n</style>\n<table border=\"1\" class=\"dataframe\">\n  <thead>\n    <tr style=\"text-align: right;\">\n      <th></th>\n      <th>MapDate</th>\n      <th>FIPS</th>\n      <th>County</th>\n      <th>State</th>\n      <th>None</th>\n      <th>D0</th>\n      <th>D1</th>\n      <th>D2</th>\n      <th>D3</th>\n      <th>D4</th>\n      <th>ValidStart</th>\n      <th>ValidEnd</th>\n      <th>StatisticFormatID</th>\n    </tr>\n  </thead>\n  <tbody>\n    <tr>\n      <th>0</th>\n      <td>20151229</td>\n      <td>2013</td>\n      <td>Aleutians East Borough</td>\n      <td>AK</td>\n      <td>7,023.35</td>\n      <td>0.00</td>\n      <td>0.00</td>\n      <td>0.00</td>\n      <td>0.00</td>\n      <td>0.00</td>\n      <td>2015-12-29</td>\n      <td>2016-01-04</td>\n      <td>1</td>\n    </tr>\n    <tr>\n      <th>1</th>\n      <td>20151222</td>\n      <td>2013</td>\n      <td>Aleutians East Borough</td>\n      <td>AK</td>\n      <td>7,023.35</td>\n      <td>0.00</td>\n      <td>0.00</td>\n      <td>0.00</td>\n      <td>0.00</td>\n      <td>0.00</td>\n      <td>2015-12-22</td>\n      <td>2015-12-28</td>\n      <td>1</td>\n    </tr>\n    <tr>\n      <th>2</th>\n      <td>20151215</td>\n      <td>2013</td>\n      <td>Aleutians East Borough</td>\n      <td>AK</td>\n      <td>7,023.35</td>\n      <td>0.00</td>\n      <td>0.00</td>\n      <td>0.00</td>\n      <td>0.00</td>\n      <td>0.00</td>\n      <td>2015-12-15</td>\n      <td>2015-12-21</td>\n      <td>1</td>\n    </tr>\n    <tr>\n      <th>3</th>\n      <td>20151208</td>\n      <td>2013</td>\n      <td>Aleutians East Borough</td>\n      <td>AK</td>\n      <td>7,023.35</td>\n      <td>0.00</td>\n      <td>0.00</td>\n      <td>0.00</td>\n      <td>0.00</td>\n      <td>0.00</td>\n      <td>2015-12-08</td>\n      <td>2015-12-14</td>\n      <td>1</td>\n    </tr>\n    <tr>\n      <th>4</th>\n      <td>20151201</td>\n      <td>2013</td>\n      <td>Aleutians East Borough</td>\n      <td>AK</td>\n      <td>7,023.35</td>\n      <td>0.00</td>\n      <td>0.00</td>\n      <td>0.00</td>\n      <td>0.00</td>\n      <td>0.00</td>\n      <td>2015-12-01</td>\n      <td>2015-12-07</td>\n      <td>1</td>\n    </tr>\n  </tbody>\n</table>\n</div>"
     },
     "metadata": {},
     "execution_count": 6
    }
   ],
   "source": [
    "drought_data_df = pd.read_csv(\"data/drought_data.csv\",low_memory=False)\n",
    "drought_data_df.head()"
   ]
  },
  {
   "cell_type": "code",
   "execution_count": 7,
   "metadata": {},
   "outputs": [],
   "source": [
    "client = pymongo.MongoClient()"
   ]
  },
  {
   "cell_type": "code",
   "execution_count": 8,
   "metadata": {},
   "outputs": [],
   "source": [
    "## Build DataBase\n",
    "db = client.Project_2_db\n",
    "drought = db.drought"
   ]
  },
  {
   "cell_type": "code",
   "execution_count": 9,
   "metadata": {},
   "outputs": [
    {
     "output_type": "execute_result",
     "data": {
      "text/plain": "<pymongo.results.InsertManyResult at 0x1c2af9457c8>"
     },
     "metadata": {},
     "execution_count": 9
    }
   ],
   "source": [
    "drought.insert_many(drought_data_df.to_dict('records'))"
   ]
  },
  {
   "cell_type": "code",
   "execution_count": null,
   "metadata": {},
   "outputs": [],
   "source": []
  },
  {
   "cell_type": "code",
   "execution_count": null,
   "metadata": {},
   "outputs": [],
   "source": []
  },
  {
   "cell_type": "code",
   "execution_count": null,
   "metadata": {},
   "outputs": [],
   "source": []
  },
  {
   "cell_type": "code",
   "execution_count": null,
   "metadata": {},
   "outputs": [],
   "source": []
  }
 ]
}