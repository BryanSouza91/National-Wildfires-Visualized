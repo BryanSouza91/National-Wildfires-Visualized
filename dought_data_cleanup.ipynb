{
 "nbformat": 4,
 "nbformat_minor": 2,
 "metadata": {
  "language_info": {
   "name": "python",
   "codemirror_mode": {
    "name": "ipython",
    "version": 3
   },
   "version": "3.7.3-final"
  },
  "orig_nbformat": 2,
  "file_extension": ".py",
  "mimetype": "text/x-python",
  "name": "python",
  "npconvert_exporter": "python",
  "pygments_lexer": "ipython3",
  "version": 3,
  "kernelspec": {
   "name": "python37364bitbaseconda7e92325aceec41c2ac312d466834af07",
   "display_name": "Python 3.7.3 64-bit ('base': conda)"
  }
 },
 "cells": [
  {
   "cell_type": "code",
   "execution_count": 1,
   "metadata": {},
   "outputs": [],
   "source": [
    "import numpy as np\n",
    "import pandas as pd\n",
    "import os\n",
    "import pymongo"
   ]
  },
  {
   "cell_type": "code",
   "execution_count": 2,
   "metadata": {},
   "outputs": [
    {
     "data": {
      "text/html": "<div>\n<style scoped>\n    .dataframe tbody tr th:only-of-type {\n        vertical-align: middle;\n    }\n\n    .dataframe tbody tr th {\n        vertical-align: top;\n    }\n\n    .dataframe thead th {\n        text-align: right;\n    }\n</style>\n<table border=\"1\" class=\"dataframe\">\n  <thead>\n    <tr style=\"text-align: right;\">\n      <th></th>\n      <th>MapDate</th>\n      <th>FIPS</th>\n      <th>County</th>\n      <th>State</th>\n      <th>None</th>\n      <th>D0</th>\n      <th>D1</th>\n      <th>D2</th>\n      <th>D3</th>\n      <th>D4</th>\n      <th>ValidStart</th>\n      <th>ValidEnd</th>\n      <th>StatisticFormatID</th>\n    </tr>\n  </thead>\n  <tbody>\n    <tr>\n      <th>0</th>\n      <td>20151229</td>\n      <td>2013</td>\n      <td>Aleutians East Borough</td>\n      <td>AK</td>\n      <td>7,023.35</td>\n      <td>0.00</td>\n      <td>0.00</td>\n      <td>0.00</td>\n      <td>0.00</td>\n      <td>0.00</td>\n      <td>2015-12-29</td>\n      <td>2016-01-04</td>\n      <td>1</td>\n    </tr>\n    <tr>\n      <th>1</th>\n      <td>20151222</td>\n      <td>2013</td>\n      <td>Aleutians East Borough</td>\n      <td>AK</td>\n      <td>7,023.35</td>\n      <td>0.00</td>\n      <td>0.00</td>\n      <td>0.00</td>\n      <td>0.00</td>\n      <td>0.00</td>\n      <td>2015-12-22</td>\n      <td>2015-12-28</td>\n      <td>1</td>\n    </tr>\n    <tr>\n      <th>2</th>\n      <td>20151215</td>\n      <td>2013</td>\n      <td>Aleutians East Borough</td>\n      <td>AK</td>\n      <td>7,023.35</td>\n      <td>0.00</td>\n      <td>0.00</td>\n      <td>0.00</td>\n      <td>0.00</td>\n      <td>0.00</td>\n      <td>2015-12-15</td>\n      <td>2015-12-21</td>\n      <td>1</td>\n    </tr>\n    <tr>\n      <th>3</th>\n      <td>20151208</td>\n      <td>2013</td>\n      <td>Aleutians East Borough</td>\n      <td>AK</td>\n      <td>7,023.35</td>\n      <td>0.00</td>\n      <td>0.00</td>\n      <td>0.00</td>\n      <td>0.00</td>\n      <td>0.00</td>\n      <td>2015-12-08</td>\n      <td>2015-12-14</td>\n      <td>1</td>\n    </tr>\n    <tr>\n      <th>4</th>\n      <td>20151201</td>\n      <td>2013</td>\n      <td>Aleutians East Borough</td>\n      <td>AK</td>\n      <td>7,023.35</td>\n      <td>0.00</td>\n      <td>0.00</td>\n      <td>0.00</td>\n      <td>0.00</td>\n      <td>0.00</td>\n      <td>2015-12-01</td>\n      <td>2015-12-07</td>\n      <td>1</td>\n    </tr>\n  </tbody>\n</table>\n</div>",
      "text/plain": "    MapDate  FIPS                  County State      None    D0    D1    D2  \\\n0  20151229  2013  Aleutians East Borough    AK  7,023.35  0.00  0.00  0.00   \n1  20151222  2013  Aleutians East Borough    AK  7,023.35  0.00  0.00  0.00   \n2  20151215  2013  Aleutians East Borough    AK  7,023.35  0.00  0.00  0.00   \n3  20151208  2013  Aleutians East Borough    AK  7,023.35  0.00  0.00  0.00   \n4  20151201  2013  Aleutians East Borough    AK  7,023.35  0.00  0.00  0.00   \n\n     D3    D4  ValidStart    ValidEnd  StatisticFormatID  \n0  0.00  0.00  2015-12-29  2016-01-04                  1  \n1  0.00  0.00  2015-12-22  2015-12-28                  1  \n2  0.00  0.00  2015-12-15  2015-12-21                  1  \n3  0.00  0.00  2015-12-08  2015-12-14                  1  \n4  0.00  0.00  2015-12-01  2015-12-07                  1  "
     },
     "execution_count": 2,
     "metadata": {},
     "output_type": "execute_result"
    }
   ],
   "source": [
    "drought_data_df = pd.read_csv(\"data/drought_data.csv\",low_memory=False)\n",
    "drought_data_df.head()"
   ]
  },
  {
   "cell_type": "code",
   "execution_count": 7,
   "metadata": {},
   "outputs": [],
   "source": [
    "client = pymongo.MongoClient()"
   ]
  },
  {
   "cell_type": "code",
   "execution_count": 8,
   "metadata": {},
   "outputs": [],
   "source": [
    "## Build DataBase\n",
    "db = client.Project_2_db\n",
    "drought = db.drought"
   ]
  },
  {
   "cell_type": "code",
   "execution_count": 9,
   "metadata": {},
   "outputs": [
    {
     "data": {
      "text/plain": "<pymongo.results.InsertManyResult at 0x1c2af9457c8>"
     },
     "execution_count": 9,
     "metadata": {},
     "output_type": "execute_result"
    }
   ],
   "source": [
    "drought.insert_many(drought_data_df.to_dict('records'))"
   ]
  },
  {
   "cell_type": "code",
   "execution_count": 3,
   "metadata": {},
   "outputs": [],
   "source": [
    "npy_file = os.path.join(\"data\",\"Fire_Data.npy\")"
   ]
  },
  {
   "cell_type": "code",
   "execution_count": 4,
   "metadata": {},
   "outputs": [],
   "source": [
    "pickle = np.load(npy_file, allow_pickle=True)"
   ]
  },
  {
   "cell_type": "code",
   "execution_count": 5,
   "metadata": {},
   "outputs": [],
   "source": [
    "fires_df = pd.DataFrame(pickle, columns=['FPA_ID','FIRE_NAME','FIRE_YEAR','DISCOVERY_DOY','DISCOVERY_TIME','CONT_DOY','CONT_TIME','FIRE_SIZE','FIRE_SIZE_CLASS','LATITUDE','LONGITUDE','STATE','COUNTY','FIPS_CODE','FIPS_NAME','STAT_CAUSE_DESCR','OWNER_CODE','OWNER_DESCR','DAYS_TO_CONT'])"
   ]
  },
  {
   "cell_type": "code",
   "execution_count": 6,
   "metadata": {},
   "outputs": [
    {
     "data": {
      "text/html": "<div>\n<style scoped>\n    .dataframe tbody tr th:only-of-type {\n        vertical-align: middle;\n    }\n\n    .dataframe tbody tr th {\n        vertical-align: top;\n    }\n\n    .dataframe thead th {\n        text-align: right;\n    }\n</style>\n<table border=\"1\" class=\"dataframe\">\n  <thead>\n    <tr style=\"text-align: right;\">\n      <th></th>\n      <th>FPA_ID</th>\n      <th>FIRE_NAME</th>\n      <th>FIRE_YEAR</th>\n      <th>DISCOVERY_DOY</th>\n      <th>DISCOVERY_TIME</th>\n      <th>CONT_DOY</th>\n      <th>CONT_TIME</th>\n      <th>FIRE_SIZE</th>\n      <th>FIRE_SIZE_CLASS</th>\n      <th>LATITUDE</th>\n      <th>LONGITUDE</th>\n      <th>STATE</th>\n      <th>COUNTY</th>\n      <th>FIPS_CODE</th>\n      <th>FIPS_NAME</th>\n      <th>STAT_CAUSE_DESCR</th>\n      <th>OWNER_CODE</th>\n      <th>OWNER_DESCR</th>\n      <th>DAYS_TO_CONT</th>\n    </tr>\n  </thead>\n  <tbody>\n    <tr>\n      <th>0</th>\n      <td>FS-1418826</td>\n      <td>FOUNTAIN</td>\n      <td>2005</td>\n      <td>33</td>\n      <td>1300</td>\n      <td>33</td>\n      <td>1730</td>\n      <td>0.1</td>\n      <td>A</td>\n      <td>40.0369</td>\n      <td>-121.006</td>\n      <td>CA</td>\n      <td>63</td>\n      <td>063</td>\n      <td>Plumas</td>\n      <td>Miscellaneous</td>\n      <td>5</td>\n      <td>USFS</td>\n      <td>0</td>\n    </tr>\n    <tr>\n      <th>1</th>\n      <td>FS-1418827</td>\n      <td>PIGEON</td>\n      <td>2004</td>\n      <td>133</td>\n      <td>0845</td>\n      <td>133</td>\n      <td>1530</td>\n      <td>0.25</td>\n      <td>A</td>\n      <td>38.9331</td>\n      <td>-120.404</td>\n      <td>CA</td>\n      <td>61</td>\n      <td>061</td>\n      <td>Placer</td>\n      <td>Lightning</td>\n      <td>5</td>\n      <td>USFS</td>\n      <td>0</td>\n    </tr>\n    <tr>\n      <th>2</th>\n      <td>FS-1418835</td>\n      <td>SLACK</td>\n      <td>2004</td>\n      <td>152</td>\n      <td>1921</td>\n      <td>152</td>\n      <td>2024</td>\n      <td>0.1</td>\n      <td>A</td>\n      <td>38.9842</td>\n      <td>-120.736</td>\n      <td>CA</td>\n      <td>17</td>\n      <td>017</td>\n      <td>El Dorado</td>\n      <td>Debris Burning</td>\n      <td>13</td>\n      <td>STATE OR PRIVATE</td>\n      <td>0</td>\n    </tr>\n    <tr>\n      <th>3</th>\n      <td>FS-1418845</td>\n      <td>DEER</td>\n      <td>2004</td>\n      <td>180</td>\n      <td>1600</td>\n      <td>185</td>\n      <td>1400</td>\n      <td>0.1</td>\n      <td>A</td>\n      <td>38.5592</td>\n      <td>-119.913</td>\n      <td>CA</td>\n      <td>3</td>\n      <td>003</td>\n      <td>Alpine</td>\n      <td>Lightning</td>\n      <td>5</td>\n      <td>USFS</td>\n      <td>5</td>\n    </tr>\n    <tr>\n      <th>4</th>\n      <td>FS-1418847</td>\n      <td>STEVENOT</td>\n      <td>2004</td>\n      <td>180</td>\n      <td>1600</td>\n      <td>185</td>\n      <td>1200</td>\n      <td>0.1</td>\n      <td>A</td>\n      <td>38.5592</td>\n      <td>-119.933</td>\n      <td>CA</td>\n      <td>3</td>\n      <td>003</td>\n      <td>Alpine</td>\n      <td>Lightning</td>\n      <td>5</td>\n      <td>USFS</td>\n      <td>5</td>\n    </tr>\n  </tbody>\n</table>\n</div>",
      "text/plain": "       FPA_ID FIRE_NAME FIRE_YEAR DISCOVERY_DOY DISCOVERY_TIME CONT_DOY  \\\n0  FS-1418826  FOUNTAIN      2005            33           1300       33   \n1  FS-1418827    PIGEON      2004           133           0845      133   \n2  FS-1418835     SLACK      2004           152           1921      152   \n3  FS-1418845      DEER      2004           180           1600      185   \n4  FS-1418847  STEVENOT      2004           180           1600      185   \n\n  CONT_TIME FIRE_SIZE FIRE_SIZE_CLASS LATITUDE LONGITUDE STATE COUNTY  \\\n0      1730       0.1               A  40.0369  -121.006    CA     63   \n1      1530      0.25               A  38.9331  -120.404    CA     61   \n2      2024       0.1               A  38.9842  -120.736    CA     17   \n3      1400       0.1               A  38.5592  -119.913    CA      3   \n4      1200       0.1               A  38.5592  -119.933    CA      3   \n\n  FIPS_CODE  FIPS_NAME STAT_CAUSE_DESCR OWNER_CODE       OWNER_DESCR  \\\n0       063     Plumas    Miscellaneous          5              USFS   \n1       061     Placer        Lightning          5              USFS   \n2       017  El Dorado   Debris Burning         13  STATE OR PRIVATE   \n3       003     Alpine        Lightning          5              USFS   \n4       003     Alpine        Lightning          5              USFS   \n\n  DAYS_TO_CONT  \n0            0  \n1            0  \n2            0  \n3            5  \n4            5  "
     },
     "execution_count": 6,
     "metadata": {},
     "output_type": "execute_result"
    }
   ],
   "source": [
    "fires_df.head()"
   ]
  },
  {
   "cell_type": "code",
   "execution_count": 11,
   "metadata": {},
   "outputs": [],
   "source": [
    "fires_df.rename(columns={'FIPS_NAME': 'county_name'}, inplace=True)\n",
    "drought_data_df.rename(columns={'County': 'county_name'}, inplace=True)"
   ]
  },
  {
   "cell_type": "code",
   "execution_count": 12,
   "metadata": {},
   "outputs": [],
   "source": [
    "fire_drought_df = pd.merge(fires_df, drought_data_df[[\"FIPS\", \"county_name\", \"State\", \"None\", \"D0\", \"D1\", \"D2\", \"D3\",                                                           \"D4\",\"ValidStart\", \"ValidEnd\"]], on=\"county_name\")"
   ]
  },
  {
   "cell_type": "code",
   "execution_count": 15,
   "metadata": {},
   "outputs": [
    {
     "data": {
      "text/plain": "['FPA_ID',\n 'FIRE_NAME',\n 'FIRE_YEAR',\n 'DISCOVERY_DOY',\n 'DISCOVERY_TIME',\n 'CONT_DOY',\n 'CONT_TIME',\n 'FIRE_SIZE',\n 'FIRE_SIZE_CLASS',\n 'LATITUDE',\n 'LONGITUDE',\n 'STATE',\n 'COUNTY',\n 'FIPS_CODE',\n 'county_name',\n 'STAT_CAUSE_DESCR',\n 'OWNER_CODE',\n 'OWNER_DESCR',\n 'DAYS_TO_CONT',\n 'FIPS',\n 'State',\n 'None',\n 'D0',\n 'D1',\n 'D2',\n 'D3',\n 'D4',\n 'ValidStart',\n 'ValidEnd']"
     },
     "execution_count": 15,
     "metadata": {},
     "output_type": "execute_result"
    }
   ],
   "source": [
    "list(fire_drought_df.columns)"
   ]
  },
  {
   "cell_type": "code",
   "execution_count": null,
   "metadata": {},
   "outputs": [],
   "source": []
  }
 ]
}