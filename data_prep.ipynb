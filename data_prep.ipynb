{
 "nbformat": 4,
 "nbformat_minor": 2,
 "metadata": {
  "language_info": {
   "name": "python",
   "codemirror_mode": {
    "name": "ipython",
    "version": 3
   },
   "version": "3.7.5-final"
  },
  "orig_nbformat": 2,
  "file_extension": ".py",
  "mimetype": "text/x-python",
  "name": "python",
  "npconvert_exporter": "python",
  "pygments_lexer": "ipython3",
  "version": 3,
  "kernelspec": {
   "name": "python37564bitdataanalyticsconda91688bd36d7c414b924baeafbaaa4569",
   "display_name": "Python 3.7.5 64-bit ('DataAnalytics': conda)"
  }
 },
 "cells": [
  {
   "cell_type": "markdown",
   "execution_count": null,
   "metadata": {},
   "outputs": [],
   "source": [
    "# Preparing the Dataset"
   ]
  },
  {
   "cell_type": "code",
   "execution_count": 1,
   "metadata": {},
   "outputs": [],
   "source": [
    "import numpy as np\n",
    "import pandas as pd\n",
    "import os\n",
    "import pymongo\n",
    "from dtime import is_leap_year, ymd\n",
    "import datetime"
   ]
  },
  {
   "cell_type": "code",
   "execution_count": 2,
   "metadata": {},
   "outputs": [],
   "source": [
    "npy_file = os.path.join(\"data\",\"Fire_Data.npy\")"
   ]
  },
  {
   "cell_type": "code",
   "execution_count": 3,
   "metadata": {},
   "outputs": [],
   "source": [
    "pickle = np.load(npy_file, allow_pickle=True)"
   ]
  },
  {
   "cell_type": "code",
   "execution_count": 4,
   "metadata": {},
   "outputs": [],
   "source": [
    "fires_df = pd.DataFrame(pickle, columns=['FPA_ID','FIRE_NAME','FIRE_YEAR','DISCOVERY_DOY','DISCOVERY_TIME','CONT_DOY','CONT_TIME','FIRE_SIZE','FIRE_SIZE_CLASS','LATITUDE','LONGITUDE','STATE','COUNTY','FIPS_CODE','FIPS_NAME','STAT_CAUSE_DESCR','OWNER_CODE','OWNER_DESCR','DAYS_TO_CONT'])"
   ]
  },
  {
   "cell_type": "code",
   "execution_count": 5,
   "metadata": {},
   "outputs": [
    {
     "data": {
      "text/html": "<div>\n<style scoped>\n    .dataframe tbody tr th:only-of-type {\n        vertical-align: middle;\n    }\n\n    .dataframe tbody tr th {\n        vertical-align: top;\n    }\n\n    .dataframe thead th {\n        text-align: right;\n    }\n</style>\n<table border=\"1\" class=\"dataframe\">\n  <thead>\n    <tr style=\"text-align: right;\">\n      <th></th>\n      <th>FPA_ID</th>\n      <th>FIRE_NAME</th>\n      <th>FIRE_YEAR</th>\n      <th>DISCOVERY_DOY</th>\n      <th>DISCOVERY_TIME</th>\n      <th>CONT_DOY</th>\n      <th>CONT_TIME</th>\n      <th>FIRE_SIZE</th>\n      <th>FIRE_SIZE_CLASS</th>\n      <th>LATITUDE</th>\n      <th>LONGITUDE</th>\n      <th>STATE</th>\n      <th>COUNTY</th>\n      <th>FIPS_CODE</th>\n      <th>FIPS_NAME</th>\n      <th>STAT_CAUSE_DESCR</th>\n      <th>OWNER_CODE</th>\n      <th>OWNER_DESCR</th>\n      <th>DAYS_TO_CONT</th>\n    </tr>\n  </thead>\n  <tbody>\n    <tr>\n      <th>0</th>\n      <td>FS-1418826</td>\n      <td>FOUNTAIN</td>\n      <td>2005</td>\n      <td>33</td>\n      <td>1300</td>\n      <td>33</td>\n      <td>1730</td>\n      <td>0.1</td>\n      <td>A</td>\n      <td>40.0369</td>\n      <td>-121.006</td>\n      <td>CA</td>\n      <td>63</td>\n      <td>063</td>\n      <td>Plumas</td>\n      <td>Miscellaneous</td>\n      <td>5</td>\n      <td>USFS</td>\n      <td>0</td>\n    </tr>\n    <tr>\n      <th>1</th>\n      <td>FS-1418827</td>\n      <td>PIGEON</td>\n      <td>2004</td>\n      <td>133</td>\n      <td>0845</td>\n      <td>133</td>\n      <td>1530</td>\n      <td>0.25</td>\n      <td>A</td>\n      <td>38.9331</td>\n      <td>-120.404</td>\n      <td>CA</td>\n      <td>61</td>\n      <td>061</td>\n      <td>Placer</td>\n      <td>Lightning</td>\n      <td>5</td>\n      <td>USFS</td>\n      <td>0</td>\n    </tr>\n    <tr>\n      <th>2</th>\n      <td>FS-1418835</td>\n      <td>SLACK</td>\n      <td>2004</td>\n      <td>152</td>\n      <td>1921</td>\n      <td>152</td>\n      <td>2024</td>\n      <td>0.1</td>\n      <td>A</td>\n      <td>38.9842</td>\n      <td>-120.736</td>\n      <td>CA</td>\n      <td>17</td>\n      <td>017</td>\n      <td>El Dorado</td>\n      <td>Debris Burning</td>\n      <td>13</td>\n      <td>STATE OR PRIVATE</td>\n      <td>0</td>\n    </tr>\n    <tr>\n      <th>3</th>\n      <td>FS-1418845</td>\n      <td>DEER</td>\n      <td>2004</td>\n      <td>180</td>\n      <td>1600</td>\n      <td>185</td>\n      <td>1400</td>\n      <td>0.1</td>\n      <td>A</td>\n      <td>38.5592</td>\n      <td>-119.913</td>\n      <td>CA</td>\n      <td>3</td>\n      <td>003</td>\n      <td>Alpine</td>\n      <td>Lightning</td>\n      <td>5</td>\n      <td>USFS</td>\n      <td>5</td>\n    </tr>\n    <tr>\n      <th>4</th>\n      <td>FS-1418847</td>\n      <td>STEVENOT</td>\n      <td>2004</td>\n      <td>180</td>\n      <td>1600</td>\n      <td>185</td>\n      <td>1200</td>\n      <td>0.1</td>\n      <td>A</td>\n      <td>38.5592</td>\n      <td>-119.933</td>\n      <td>CA</td>\n      <td>3</td>\n      <td>003</td>\n      <td>Alpine</td>\n      <td>Lightning</td>\n      <td>5</td>\n      <td>USFS</td>\n      <td>5</td>\n    </tr>\n  </tbody>\n</table>\n</div>",
      "text/plain": "       FPA_ID FIRE_NAME FIRE_YEAR DISCOVERY_DOY DISCOVERY_TIME CONT_DOY  \\\n0  FS-1418826  FOUNTAIN      2005            33           1300       33   \n1  FS-1418827    PIGEON      2004           133           0845      133   \n2  FS-1418835     SLACK      2004           152           1921      152   \n3  FS-1418845      DEER      2004           180           1600      185   \n4  FS-1418847  STEVENOT      2004           180           1600      185   \n\n  CONT_TIME FIRE_SIZE FIRE_SIZE_CLASS LATITUDE LONGITUDE STATE COUNTY  \\\n0      1730       0.1               A  40.0369  -121.006    CA     63   \n1      1530      0.25               A  38.9331  -120.404    CA     61   \n2      2024       0.1               A  38.9842  -120.736    CA     17   \n3      1400       0.1               A  38.5592  -119.913    CA      3   \n4      1200       0.1               A  38.5592  -119.933    CA      3   \n\n  FIPS_CODE  FIPS_NAME STAT_CAUSE_DESCR OWNER_CODE       OWNER_DESCR  \\\n0       063     Plumas    Miscellaneous          5              USFS   \n1       061     Placer        Lightning          5              USFS   \n2       017  El Dorado   Debris Burning         13  STATE OR PRIVATE   \n3       003     Alpine        Lightning          5              USFS   \n4       003     Alpine        Lightning          5              USFS   \n\n  DAYS_TO_CONT  \n0            0  \n1            0  \n2            0  \n3            5  \n4            5  "
     },
     "execution_count": 5,
     "metadata": {},
     "output_type": "execute_result"
    }
   ],
   "source": [
    "fires_df.head()"
   ]
  },
  {
   "cell_type": "code",
   "execution_count": 6,
   "metadata": {},
   "outputs": [],
   "source": [
    "fires_df[\"DAYS_TO_CONT\"] = fires_df[\"DAYS_TO_CONT\"].transform(lambda x: x if x > -1 else x + 365)"
   ]
  },
  {
   "cell_type": "code",
   "execution_count": 7,
   "metadata": {},
   "outputs": [],
   "source": [
    "fires_df['DISCOVERY_TIME'] = fires_df['DISCOVERY_TIME'].apply(lambda x: x.replace(\"None\",'0') if x == \"None\" else x)"
   ]
  },
  {
   "cell_type": "code",
   "execution_count": 8,
   "metadata": {},
   "outputs": [],
   "source": [
    "fires_df['DISCOVERY_TIME'] = fires_df['DISCOVERY_TIME'].astype('str')"
   ]
  },
  {
   "cell_type": "code",
   "execution_count": 9,
   "metadata": {},
   "outputs": [],
   "source": [
    "fires_df['CONT_TIME'] = fires_df['CONT_TIME'].apply(lambda x: x.replace(\"None\",'0') if x == \"None\" else x)"
   ]
  },
  {
   "cell_type": "code",
   "execution_count": 10,
   "metadata": {},
   "outputs": [],
   "source": [
    "fires_df['CONT_TIME'] = fires_df['CONT_TIME'].apply(lambda x: x.replace(\"\",'0') if x == \"\" else x)"
   ]
  },
  {
   "cell_type": "code",
   "execution_count": 11,
   "metadata": {},
   "outputs": [],
   "source": [
    "fires_df['CONT_TIME'] = fires_df['CONT_TIME'].astype('str')"
   ]
  },
  {
   "cell_type": "code",
   "execution_count": 12,
   "metadata": {},
   "outputs": [],
   "source": [
    "fires_df['DISCOVERY_HOUR'] = fires_df['DISCOVERY_TIME'].apply(lambda x: x[:2])"
   ]
  },
  {
   "cell_type": "code",
   "execution_count": 14,
   "metadata": {},
   "outputs": [],
   "source": [
    "fires_df['DISCOVERY_MINUTE'] = fires_df['DISCOVERY_TIME'].apply(lambda x: x[2:])"
   ]
  },
  {
   "cell_type": "code",
   "execution_count": 15,
   "metadata": {},
   "outputs": [],
   "source": [
    "fires_df['CONT_HOUR'] = fires_df['CONT_TIME'].apply(lambda x: x[:2])"
   ]
  },
  {
   "cell_type": "code",
   "execution_count": 16,
   "metadata": {},
   "outputs": [],
   "source": [
    "fires_df['CONT_MINUTE'] = fires_df['CONT_TIME'].apply(lambda x: x[2:])"
   ]
  },
  {
   "cell_type": "code",
   "execution_count": 17,
   "metadata": {},
   "outputs": [],
   "source": [
    "# fires_df['DISCOVERY_DATE_PD'] = pd.to_datetime(fires_df['FIRE_YEAR'] * 1000 + fires_df['DISCOVERY_DOY'], format='%Y%j') \n",
    ""
   ]
  },
  {
   "cell_type": "code",
   "execution_count": 18,
   "metadata": {},
   "outputs": [],
   "source": [
    "# fires_df['DISCOVERY_DATE_PD'] = pd.to_datetime(fires_df['FIRE_YEAR'] * 31,556,952 + fires_df['DISCOVERY_DOY'], units='s', format='%Y%j%X') \n",
    ""
   ]
  },
  {
   "cell_type": "code",
   "execution_count": 19,
   "metadata": {},
   "outputs": [
    {
     "data": {
      "text/html": "<div>\n<style scoped>\n    .dataframe tbody tr th:only-of-type {\n        vertical-align: middle;\n    }\n\n    .dataframe tbody tr th {\n        vertical-align: top;\n    }\n\n    .dataframe thead th {\n        text-align: right;\n    }\n</style>\n<table border=\"1\" class=\"dataframe\">\n  <thead>\n    <tr style=\"text-align: right;\">\n      <th></th>\n      <th>FPA_ID</th>\n      <th>FIRE_NAME</th>\n      <th>FIRE_YEAR</th>\n      <th>DISCOVERY_DOY</th>\n      <th>DISCOVERY_TIME</th>\n      <th>CONT_DOY</th>\n      <th>CONT_TIME</th>\n      <th>FIRE_SIZE</th>\n      <th>FIRE_SIZE_CLASS</th>\n      <th>LATITUDE</th>\n      <th>...</th>\n      <th>FIPS_CODE</th>\n      <th>FIPS_NAME</th>\n      <th>STAT_CAUSE_DESCR</th>\n      <th>OWNER_CODE</th>\n      <th>OWNER_DESCR</th>\n      <th>DAYS_TO_CONT</th>\n      <th>DISCOVERY_HOUR</th>\n      <th>DISCOVERY_MINUTE</th>\n      <th>CONT_HOUR</th>\n      <th>CONT_MINUTE</th>\n    </tr>\n  </thead>\n  <tbody>\n    <tr>\n      <th>0</th>\n      <td>FS-1418826</td>\n      <td>FOUNTAIN</td>\n      <td>2005</td>\n      <td>33</td>\n      <td>1300</td>\n      <td>33</td>\n      <td>1730</td>\n      <td>0.1</td>\n      <td>A</td>\n      <td>40.0369</td>\n      <td>...</td>\n      <td>063</td>\n      <td>Plumas</td>\n      <td>Miscellaneous</td>\n      <td>5</td>\n      <td>USFS</td>\n      <td>0.0</td>\n      <td>13</td>\n      <td>00</td>\n      <td>17</td>\n      <td>30</td>\n    </tr>\n    <tr>\n      <th>1</th>\n      <td>FS-1418827</td>\n      <td>PIGEON</td>\n      <td>2004</td>\n      <td>133</td>\n      <td>0845</td>\n      <td>133</td>\n      <td>1530</td>\n      <td>0.25</td>\n      <td>A</td>\n      <td>38.9331</td>\n      <td>...</td>\n      <td>061</td>\n      <td>Placer</td>\n      <td>Lightning</td>\n      <td>5</td>\n      <td>USFS</td>\n      <td>0.0</td>\n      <td>08</td>\n      <td>45</td>\n      <td>15</td>\n      <td>30</td>\n    </tr>\n    <tr>\n      <th>2</th>\n      <td>FS-1418835</td>\n      <td>SLACK</td>\n      <td>2004</td>\n      <td>152</td>\n      <td>1921</td>\n      <td>152</td>\n      <td>2024</td>\n      <td>0.1</td>\n      <td>A</td>\n      <td>38.9842</td>\n      <td>...</td>\n      <td>017</td>\n      <td>El Dorado</td>\n      <td>Debris Burning</td>\n      <td>13</td>\n      <td>STATE OR PRIVATE</td>\n      <td>0.0</td>\n      <td>19</td>\n      <td>21</td>\n      <td>20</td>\n      <td>24</td>\n    </tr>\n    <tr>\n      <th>3</th>\n      <td>FS-1418845</td>\n      <td>DEER</td>\n      <td>2004</td>\n      <td>180</td>\n      <td>1600</td>\n      <td>185</td>\n      <td>1400</td>\n      <td>0.1</td>\n      <td>A</td>\n      <td>38.5592</td>\n      <td>...</td>\n      <td>003</td>\n      <td>Alpine</td>\n      <td>Lightning</td>\n      <td>5</td>\n      <td>USFS</td>\n      <td>5.0</td>\n      <td>16</td>\n      <td>00</td>\n      <td>14</td>\n      <td>00</td>\n    </tr>\n    <tr>\n      <th>4</th>\n      <td>FS-1418847</td>\n      <td>STEVENOT</td>\n      <td>2004</td>\n      <td>180</td>\n      <td>1600</td>\n      <td>185</td>\n      <td>1200</td>\n      <td>0.1</td>\n      <td>A</td>\n      <td>38.5592</td>\n      <td>...</td>\n      <td>003</td>\n      <td>Alpine</td>\n      <td>Lightning</td>\n      <td>5</td>\n      <td>USFS</td>\n      <td>5.0</td>\n      <td>16</td>\n      <td>00</td>\n      <td>12</td>\n      <td>00</td>\n    </tr>\n  </tbody>\n</table>\n<p>5 rows × 23 columns</p>\n</div>",
      "text/plain": "       FPA_ID FIRE_NAME FIRE_YEAR DISCOVERY_DOY DISCOVERY_TIME CONT_DOY  \\\n0  FS-1418826  FOUNTAIN      2005            33           1300       33   \n1  FS-1418827    PIGEON      2004           133           0845      133   \n2  FS-1418835     SLACK      2004           152           1921      152   \n3  FS-1418845      DEER      2004           180           1600      185   \n4  FS-1418847  STEVENOT      2004           180           1600      185   \n\n  CONT_TIME FIRE_SIZE FIRE_SIZE_CLASS LATITUDE  ... FIPS_CODE  FIPS_NAME  \\\n0      1730       0.1               A  40.0369  ...       063     Plumas   \n1      1530      0.25               A  38.9331  ...       061     Placer   \n2      2024       0.1               A  38.9842  ...       017  El Dorado   \n3      1400       0.1               A  38.5592  ...       003     Alpine   \n4      1200       0.1               A  38.5592  ...       003     Alpine   \n\n  STAT_CAUSE_DESCR OWNER_CODE       OWNER_DESCR DAYS_TO_CONT DISCOVERY_HOUR  \\\n0    Miscellaneous          5              USFS          0.0             13   \n1        Lightning          5              USFS          0.0             08   \n2   Debris Burning         13  STATE OR PRIVATE          0.0             19   \n3        Lightning          5              USFS          5.0             16   \n4        Lightning          5              USFS          5.0             16   \n\n  DISCOVERY_MINUTE  CONT_HOUR CONT_MINUTE  \n0               00         17          30  \n1               45         15          30  \n2               21         20          24  \n3               00         14          00  \n4               00         12          00  \n\n[5 rows x 23 columns]"
     },
     "execution_count": 19,
     "metadata": {},
     "output_type": "execute_result"
    }
   ],
   "source": [
    "fires_df.head()"
   ]
  },
  {
   "cell_type": "code",
   "execution_count": 20,
   "metadata": {},
   "outputs": [],
   "source": [
    "# fires_df['DISCOVERY_TIME_NS'] = pd.to_datetime(fires_df['DISCOVERY_HOUR'].replace('',0).astype('int') * 3.6e12 + fires_df['DISCOVERY_MINUTE'].replace('',0).astype('int') * 6.0e10, format='ns')"
   ]
  },
  {
   "cell_type": "code",
   "execution_count": 20,
   "metadata": {},
   "outputs": [
    {
     "name": "stdout",
     "output_type": "stream",
     "text": "1 FPA_ID\n2 FIRE_NAME\n3 FIRE_YEAR\n4 DISCOVERY_DOY\n5 DISCOVERY_TIME\n6 CONT_DOY\n7 CONT_TIME\n8 FIRE_SIZE\n9 FIRE_SIZE_CLASS\n10 LATITUDE\n11 LONGITUDE\n12 STATE\n13 COUNTY\n14 FIPS_CODE\n15 FIPS_NAME\n16 STAT_CAUSE_DESCR\n17 OWNER_CODE\n18 OWNER_DESCR\n19 DAYS_TO_CONT\n20 DISCOVERY_HOUR\n21 DISCOVERY_MINUTE\n22 CONT_MINUTE\n23 CONT_HOUR\n"
    }
   ],
   "source": [
    "ctr = 0\n",
    "for col in fires_df.columns:\n",
    "    ctr += 1\n",
    "    print(ctr, col)\n"
   ]
  },
  {
   "cell_type": "code",
   "execution_count": 21,
   "metadata": {},
   "outputs": [
    {
     "data": {
      "text/plain": "Debris Burning       429028\nMiscellaneous        323805\nArson                281455\nLightning            278468\nMissing/Undefined    166723\nEquipment Use        147612\nCampfire              76139\nChildren              61167\nSmoking               52869\nRailroad              33455\nPowerline             14448\nFireworks             11500\nStructure              3796\nName: STAT_CAUSE_DESCR, dtype: int64"
     },
     "execution_count": 21,
     "metadata": {},
     "output_type": "execute_result"
    }
   ],
   "source": [
    "fires_df.STAT_CAUSE_DESCR.value_counts()"
   ]
  },
  {
   "cell_type": "code",
   "execution_count": 21,
   "metadata": {},
   "outputs": [],
   "source": [
    "# build datetime for CONT and DISCOVERY Dates \n",
    "# if cont doy less than discovery doy add 1 to year\n",
    "# make new column for CONT and DISCOVERY\n",
    "disc_dates = []\n",
    "cont_dates = []\n",
    "for row in fires_df.itertuples():\n",
    "    Dyr = int(row[3])\n",
    "    Ddy = int(row[4])\n",
    "    Dhr = int(row[20])\n",
    "    Cdy = int(row[6])\n",
    "    Chr = int(row[22])\n",
    "    if Cdy < Ddy:\n",
    "        Cyr = int(row[3]) + 1 \n",
    "    else:\n",
    "        Cyr = int(row[3])\n",
    "    try:\n",
    "        Dmn = int(row[21])\n",
    "    except ValueError as De:\n",
    "        Dmn = 00\n",
    "    try:\n",
    "        Cmn = int(row[23])\n",
    "    except ValueError as Ce:\n",
    "        Cmn = 00\n",
    "    DYr,DMo,DDa = ymd(Dyr,Ddy)\n",
    "    CYr,CMo,CDa = ymd(Cyr,Cdy)\n",
    "    disc_dates.append(datetime.datetime(DYr,DMo,DDa,Dhr,Dmn))\n",
    "    cont_dates.append(datetime.datetime(CYr,CMo,CDa,Chr,Cmn))"
   ]
  },
  {
   "cell_type": "code",
   "execution_count": 22,
   "metadata": {},
   "outputs": [
    {
     "name": "stdout",
     "output_type": "stream",
     "text": "1880465 1880465\n"
    }
   ],
   "source": [
    "print(len(disc_dates),len(cont_dates))"
   ]
  },
  {
   "cell_type": "code",
   "execution_count": 23,
   "metadata": {},
   "outputs": [],
   "source": [
    "fires_df['DISCOVERY_DATE'] = disc_dates"
   ]
  },
  {
   "cell_type": "code",
   "execution_count": 24,
   "metadata": {},
   "outputs": [],
   "source": [
    "fires_df['CONT_DATE'] = cont_dates"
   ]
  },
  {
   "cell_type": "code",
   "execution_count": 25,
   "metadata": {},
   "outputs": [
    {
     "data": {
      "text/html": "<div>\n<style scoped>\n    .dataframe tbody tr th:only-of-type {\n        vertical-align: middle;\n    }\n\n    .dataframe tbody tr th {\n        vertical-align: top;\n    }\n\n    .dataframe thead th {\n        text-align: right;\n    }\n</style>\n<table border=\"1\" class=\"dataframe\">\n  <thead>\n    <tr style=\"text-align: right;\">\n      <th></th>\n      <th>FPA_ID</th>\n      <th>FIRE_NAME</th>\n      <th>FIRE_YEAR</th>\n      <th>DISCOVERY_DOY</th>\n      <th>DISCOVERY_TIME</th>\n      <th>CONT_DOY</th>\n      <th>CONT_TIME</th>\n      <th>FIRE_SIZE</th>\n      <th>FIRE_SIZE_CLASS</th>\n      <th>LATITUDE</th>\n      <th>...</th>\n      <th>STAT_CAUSE_DESCR</th>\n      <th>OWNER_CODE</th>\n      <th>OWNER_DESCR</th>\n      <th>DAYS_TO_CONT</th>\n      <th>DISCOVERY_HOUR</th>\n      <th>DISCOVERY_MINUTE</th>\n      <th>CONT_HOUR</th>\n      <th>CONT_MINUTE</th>\n      <th>DISCOVERY_DATE</th>\n      <th>CONT_DATE</th>\n    </tr>\n  </thead>\n  <tbody>\n    <tr>\n      <th>0</th>\n      <td>FS-1418826</td>\n      <td>FOUNTAIN</td>\n      <td>2005</td>\n      <td>33</td>\n      <td>1300</td>\n      <td>33</td>\n      <td>1730</td>\n      <td>0.1</td>\n      <td>A</td>\n      <td>40.0369</td>\n      <td>...</td>\n      <td>Miscellaneous</td>\n      <td>5</td>\n      <td>USFS</td>\n      <td>0.0</td>\n      <td>13</td>\n      <td>00</td>\n      <td>17</td>\n      <td>30</td>\n      <td>2005-02-02 13:00:00</td>\n      <td>2005-02-02 17:30:00</td>\n    </tr>\n    <tr>\n      <th>1</th>\n      <td>FS-1418827</td>\n      <td>PIGEON</td>\n      <td>2004</td>\n      <td>133</td>\n      <td>0845</td>\n      <td>133</td>\n      <td>1530</td>\n      <td>0.25</td>\n      <td>A</td>\n      <td>38.9331</td>\n      <td>...</td>\n      <td>Lightning</td>\n      <td>5</td>\n      <td>USFS</td>\n      <td>0.0</td>\n      <td>08</td>\n      <td>45</td>\n      <td>15</td>\n      <td>30</td>\n      <td>2004-05-12 08:45:00</td>\n      <td>2004-05-12 15:30:00</td>\n    </tr>\n    <tr>\n      <th>2</th>\n      <td>FS-1418835</td>\n      <td>SLACK</td>\n      <td>2004</td>\n      <td>152</td>\n      <td>1921</td>\n      <td>152</td>\n      <td>2024</td>\n      <td>0.1</td>\n      <td>A</td>\n      <td>38.9842</td>\n      <td>...</td>\n      <td>Debris Burning</td>\n      <td>13</td>\n      <td>STATE OR PRIVATE</td>\n      <td>0.0</td>\n      <td>19</td>\n      <td>21</td>\n      <td>20</td>\n      <td>24</td>\n      <td>2004-05-31 19:21:00</td>\n      <td>2004-05-31 20:24:00</td>\n    </tr>\n    <tr>\n      <th>3</th>\n      <td>FS-1418845</td>\n      <td>DEER</td>\n      <td>2004</td>\n      <td>180</td>\n      <td>1600</td>\n      <td>185</td>\n      <td>1400</td>\n      <td>0.1</td>\n      <td>A</td>\n      <td>38.5592</td>\n      <td>...</td>\n      <td>Lightning</td>\n      <td>5</td>\n      <td>USFS</td>\n      <td>5.0</td>\n      <td>16</td>\n      <td>00</td>\n      <td>14</td>\n      <td>00</td>\n      <td>2004-06-28 16:00:00</td>\n      <td>2004-07-03 14:00:00</td>\n    </tr>\n    <tr>\n      <th>4</th>\n      <td>FS-1418847</td>\n      <td>STEVENOT</td>\n      <td>2004</td>\n      <td>180</td>\n      <td>1600</td>\n      <td>185</td>\n      <td>1200</td>\n      <td>0.1</td>\n      <td>A</td>\n      <td>38.5592</td>\n      <td>...</td>\n      <td>Lightning</td>\n      <td>5</td>\n      <td>USFS</td>\n      <td>5.0</td>\n      <td>16</td>\n      <td>00</td>\n      <td>12</td>\n      <td>00</td>\n      <td>2004-06-28 16:00:00</td>\n      <td>2004-07-03 12:00:00</td>\n    </tr>\n  </tbody>\n</table>\n<p>5 rows × 25 columns</p>\n</div>",
      "text/plain": "       FPA_ID FIRE_NAME FIRE_YEAR DISCOVERY_DOY DISCOVERY_TIME CONT_DOY  \\\n0  FS-1418826  FOUNTAIN      2005            33           1300       33   \n1  FS-1418827    PIGEON      2004           133           0845      133   \n2  FS-1418835     SLACK      2004           152           1921      152   \n3  FS-1418845      DEER      2004           180           1600      185   \n4  FS-1418847  STEVENOT      2004           180           1600      185   \n\n  CONT_TIME FIRE_SIZE FIRE_SIZE_CLASS LATITUDE  ... STAT_CAUSE_DESCR  \\\n0      1730       0.1               A  40.0369  ...    Miscellaneous   \n1      1530      0.25               A  38.9331  ...        Lightning   \n2      2024       0.1               A  38.9842  ...   Debris Burning   \n3      1400       0.1               A  38.5592  ...        Lightning   \n4      1200       0.1               A  38.5592  ...        Lightning   \n\n  OWNER_CODE       OWNER_DESCR DAYS_TO_CONT DISCOVERY_HOUR DISCOVERY_MINUTE  \\\n0          5              USFS          0.0             13               00   \n1          5              USFS          0.0             08               45   \n2         13  STATE OR PRIVATE          0.0             19               21   \n3          5              USFS          5.0             16               00   \n4          5              USFS          5.0             16               00   \n\n  CONT_HOUR CONT_MINUTE      DISCOVERY_DATE           CONT_DATE  \n0        17          30 2005-02-02 13:00:00 2005-02-02 17:30:00  \n1        15          30 2004-05-12 08:45:00 2004-05-12 15:30:00  \n2        20          24 2004-05-31 19:21:00 2004-05-31 20:24:00  \n3        14          00 2004-06-28 16:00:00 2004-07-03 14:00:00  \n4        12          00 2004-06-28 16:00:00 2004-07-03 12:00:00  \n\n[5 rows x 25 columns]"
     },
     "execution_count": 25,
     "metadata": {},
     "output_type": "execute_result"
    }
   ],
   "source": [
    "fires_df.head()"
   ]
  },
  {
   "cell_type": "code",
   "execution_count": 26,
   "metadata": {},
   "outputs": [],
   "source": [
    "Viz_df = fires_df[['FPA_ID','FIRE_NAME','FIRE_YEAR','FIRE_SIZE','FIRE_SIZE_CLASS','LATITUDE','LONGITUDE','STATE','FIPS_CODE','FIPS_NAME','STAT_CAUSE_DESCR','OWNER_CODE','OWNER_DESCR','DAYS_TO_CONT','DISCOVERY_DATE','CONT_DATE']]"
   ]
  },
  {
   "cell_type": "code",
   "execution_count": 27,
   "metadata": {},
   "outputs": [],
   "source": [
    "np.save(\"Fire_Data_clean.npy\",Viz_df)"
   ]
  },
  {
   "cell_type": "markdown",
   "metadata": {},
   "source": [
    "# Load saved clean Df"
   ]
  },
  {
   "cell_type": "code",
   "execution_count": 2,
   "metadata": {},
   "outputs": [],
   "source": [
    "Viz_df = pd.DataFrame(np.load(os.path.join(\"data\",\"Fire_Data_clean.npy\"), allow_pickle=True) , columns=['FPA_ID','FIRE_NAME','FIRE_YEAR','FIRE_SIZE','FIRE_SIZE_CLASS','LATITUDE','LONGITUDE','STATE','FIPS_CODE','FIPS_NAME','STAT_CAUSE_DESCR','OWNER_CODE','OWNER_DESCR','DAYS_TO_CONT','DISCOVERY_DATE','CONT_DATE'])"
   ]
  },
  {
   "cell_type": "code",
   "execution_count": 3,
   "metadata": {},
   "outputs": [
    {
     "data": {
      "text/html": "<div>\n<style scoped>\n    .dataframe tbody tr th:only-of-type {\n        vertical-align: middle;\n    }\n\n    .dataframe tbody tr th {\n        vertical-align: top;\n    }\n\n    .dataframe thead th {\n        text-align: right;\n    }\n</style>\n<table border=\"1\" class=\"dataframe\">\n  <thead>\n    <tr style=\"text-align: right;\">\n      <th></th>\n      <th>FPA_ID</th>\n      <th>FIRE_NAME</th>\n      <th>FIRE_YEAR</th>\n      <th>FIRE_SIZE</th>\n      <th>FIRE_SIZE_CLASS</th>\n      <th>LATITUDE</th>\n      <th>LONGITUDE</th>\n      <th>STATE</th>\n      <th>FIPS_CODE</th>\n      <th>FIPS_NAME</th>\n      <th>STAT_CAUSE_DESCR</th>\n      <th>OWNER_CODE</th>\n      <th>OWNER_DESCR</th>\n      <th>DAYS_TO_CONT</th>\n      <th>DISCOVERY_DATE</th>\n      <th>CONT_DATE</th>\n    </tr>\n  </thead>\n  <tbody>\n    <tr>\n      <th>0</th>\n      <td>FS-1418826</td>\n      <td>FOUNTAIN</td>\n      <td>2005</td>\n      <td>0.1</td>\n      <td>A</td>\n      <td>40.0369</td>\n      <td>-121.006</td>\n      <td>CA</td>\n      <td>063</td>\n      <td>Plumas</td>\n      <td>Miscellaneous</td>\n      <td>5</td>\n      <td>USFS</td>\n      <td>0</td>\n      <td>2005-02-02 13:00:00</td>\n      <td>2005-02-02 17:30:00</td>\n    </tr>\n    <tr>\n      <th>1</th>\n      <td>FS-1418827</td>\n      <td>PIGEON</td>\n      <td>2004</td>\n      <td>0.25</td>\n      <td>A</td>\n      <td>38.9331</td>\n      <td>-120.404</td>\n      <td>CA</td>\n      <td>061</td>\n      <td>Placer</td>\n      <td>Lightning</td>\n      <td>5</td>\n      <td>USFS</td>\n      <td>0</td>\n      <td>2004-05-12 08:45:00</td>\n      <td>2004-05-12 15:30:00</td>\n    </tr>\n    <tr>\n      <th>2</th>\n      <td>FS-1418835</td>\n      <td>SLACK</td>\n      <td>2004</td>\n      <td>0.1</td>\n      <td>A</td>\n      <td>38.9842</td>\n      <td>-120.736</td>\n      <td>CA</td>\n      <td>017</td>\n      <td>El Dorado</td>\n      <td>Debris Burning</td>\n      <td>13</td>\n      <td>STATE OR PRIVATE</td>\n      <td>0</td>\n      <td>2004-05-31 19:21:00</td>\n      <td>2004-05-31 20:24:00</td>\n    </tr>\n    <tr>\n      <th>3</th>\n      <td>FS-1418845</td>\n      <td>DEER</td>\n      <td>2004</td>\n      <td>0.1</td>\n      <td>A</td>\n      <td>38.5592</td>\n      <td>-119.913</td>\n      <td>CA</td>\n      <td>003</td>\n      <td>Alpine</td>\n      <td>Lightning</td>\n      <td>5</td>\n      <td>USFS</td>\n      <td>5</td>\n      <td>2004-06-28 16:00:00</td>\n      <td>2004-07-03 14:00:00</td>\n    </tr>\n    <tr>\n      <th>4</th>\n      <td>FS-1418847</td>\n      <td>STEVENOT</td>\n      <td>2004</td>\n      <td>0.1</td>\n      <td>A</td>\n      <td>38.5592</td>\n      <td>-119.933</td>\n      <td>CA</td>\n      <td>003</td>\n      <td>Alpine</td>\n      <td>Lightning</td>\n      <td>5</td>\n      <td>USFS</td>\n      <td>5</td>\n      <td>2004-06-28 16:00:00</td>\n      <td>2004-07-03 12:00:00</td>\n    </tr>\n    <tr>\n      <th>5</th>\n      <td>FS-1418849</td>\n      <td>HIDDEN</td>\n      <td>2004</td>\n      <td>0.1</td>\n      <td>A</td>\n      <td>38.6353</td>\n      <td>-120.104</td>\n      <td>CA</td>\n      <td>005</td>\n      <td>Amador</td>\n      <td>Lightning</td>\n      <td>5</td>\n      <td>USFS</td>\n      <td>1</td>\n      <td>2004-06-30 18:00:00</td>\n      <td>2004-07-01 16:00:00</td>\n    </tr>\n    <tr>\n      <th>6</th>\n      <td>FS-1418851</td>\n      <td>FORK</td>\n      <td>2004</td>\n      <td>0.1</td>\n      <td>A</td>\n      <td>38.6883</td>\n      <td>-120.153</td>\n      <td>CA</td>\n      <td>017</td>\n      <td>El Dorado</td>\n      <td>Lightning</td>\n      <td>5</td>\n      <td>USFS</td>\n      <td>1</td>\n      <td>2004-07-01 18:00:00</td>\n      <td>2004-07-02 14:00:00</td>\n    </tr>\n    <tr>\n      <th>7</th>\n      <td>FS-1418854</td>\n      <td>SLATE</td>\n      <td>2005</td>\n      <td>0.8</td>\n      <td>B</td>\n      <td>40.9681</td>\n      <td>-122.434</td>\n      <td>CA</td>\n      <td>67</td>\n      <td>None</td>\n      <td>Debris Burning</td>\n      <td>13</td>\n      <td>STATE OR PRIVATE</td>\n      <td>0</td>\n      <td>2005-03-08 13:00:00</td>\n      <td>2005-03-08 16:00:00</td>\n    </tr>\n    <tr>\n      <th>8</th>\n      <td>FS-1418856</td>\n      <td>SHASTA</td>\n      <td>2005</td>\n      <td>1</td>\n      <td>B</td>\n      <td>41.2336</td>\n      <td>-122.283</td>\n      <td>CA</td>\n      <td>67</td>\n      <td>None</td>\n      <td>Debris Burning</td>\n      <td>13</td>\n      <td>STATE OR PRIVATE</td>\n      <td>0</td>\n      <td>2005-03-15 12:00:00</td>\n      <td>2005-03-15 17:00:00</td>\n    </tr>\n    <tr>\n      <th>9</th>\n      <td>FS-1418859</td>\n      <td>TANGLEFOOT</td>\n      <td>2004</td>\n      <td>0.1</td>\n      <td>A</td>\n      <td>38.5483</td>\n      <td>-120.149</td>\n      <td>CA</td>\n      <td>005</td>\n      <td>Amador</td>\n      <td>Lightning</td>\n      <td>5</td>\n      <td>USFS</td>\n      <td>1</td>\n      <td>2004-07-01 18:00:00</td>\n      <td>2004-07-02 18:00:00</td>\n    </tr>\n  </tbody>\n</table>\n</div>",
      "text/plain": "       FPA_ID   FIRE_NAME FIRE_YEAR FIRE_SIZE FIRE_SIZE_CLASS LATITUDE  \\\n0  FS-1418826    FOUNTAIN      2005       0.1               A  40.0369   \n1  FS-1418827      PIGEON      2004      0.25               A  38.9331   \n2  FS-1418835       SLACK      2004       0.1               A  38.9842   \n3  FS-1418845        DEER      2004       0.1               A  38.5592   \n4  FS-1418847    STEVENOT      2004       0.1               A  38.5592   \n5  FS-1418849      HIDDEN      2004       0.1               A  38.6353   \n6  FS-1418851        FORK      2004       0.1               A  38.6883   \n7  FS-1418854       SLATE      2005       0.8               B  40.9681   \n8  FS-1418856      SHASTA      2005         1               B  41.2336   \n9  FS-1418859  TANGLEFOOT      2004       0.1               A  38.5483   \n\n  LONGITUDE STATE FIPS_CODE  FIPS_NAME STAT_CAUSE_DESCR OWNER_CODE  \\\n0  -121.006    CA       063     Plumas    Miscellaneous          5   \n1  -120.404    CA       061     Placer        Lightning          5   \n2  -120.736    CA       017  El Dorado   Debris Burning         13   \n3  -119.913    CA       003     Alpine        Lightning          5   \n4  -119.933    CA       003     Alpine        Lightning          5   \n5  -120.104    CA       005     Amador        Lightning          5   \n6  -120.153    CA       017  El Dorado        Lightning          5   \n7  -122.434    CA        67       None   Debris Burning         13   \n8  -122.283    CA        67       None   Debris Burning         13   \n9  -120.149    CA       005     Amador        Lightning          5   \n\n        OWNER_DESCR DAYS_TO_CONT      DISCOVERY_DATE           CONT_DATE  \n0              USFS            0 2005-02-02 13:00:00 2005-02-02 17:30:00  \n1              USFS            0 2004-05-12 08:45:00 2004-05-12 15:30:00  \n2  STATE OR PRIVATE            0 2004-05-31 19:21:00 2004-05-31 20:24:00  \n3              USFS            5 2004-06-28 16:00:00 2004-07-03 14:00:00  \n4              USFS            5 2004-06-28 16:00:00 2004-07-03 12:00:00  \n5              USFS            1 2004-06-30 18:00:00 2004-07-01 16:00:00  \n6              USFS            1 2004-07-01 18:00:00 2004-07-02 14:00:00  \n7  STATE OR PRIVATE            0 2005-03-08 13:00:00 2005-03-08 16:00:00  \n8  STATE OR PRIVATE            0 2005-03-15 12:00:00 2005-03-15 17:00:00  \n9              USFS            1 2004-07-01 18:00:00 2004-07-02 18:00:00  "
     },
     "execution_count": 3,
     "metadata": {},
     "output_type": "execute_result"
    }
   ],
   "source": [
    "Viz_df.head(10)"
   ]
  },
  {
   "cell_type": "code",
   "execution_count": 9,
   "metadata": {},
   "outputs": [],
   "source": [
    "cont_df = pd.DataFrame(Viz_df.groupby(['STAT_CAUSE_DESCR','FIRE_YEAR']).DAYS_TO_CONT.sum())"
   ]
  },
  {
   "cell_type": "code",
   "execution_count": 24,
   "metadata": {},
   "outputs": [
    {
     "name": "stdout",
     "output_type": "stream",
     "text": "24607.0\n==================================================\nChildren 1994\n251189.0\n==================================================\nChildren 1995\n275816.0\n==================================================\nChildren 1996\n231417.0\n==================================================\nChildren 1997\n250782.0\n==================================================\nChildren 1998\n321867.0\n==================================================\nChildren 1999\n351209.0\n==================================================\nChildren 2000\n289858.0\n==================================================\nChildren 2001\n338519.0\n==================================================\nChildren 2002\n244286.0\n==================================================\nChildren 2003\n157613.0\n==================================================\nChildren 2004\n183608.0\n==================================================\nChildren 2005\n244053.0\n==================================================\nChildren 2006\n300723.0\n==================================================\nChildren 2007\n251239.0\n==================================================\nChildren 2008\n218345.0\n==================================================\nChildren 2009\n173054.0\n==================================================\nChildren 2010\n167748.0\n==================================================\nChildren 2011\n123826.0\n==================================================\nChildren 2012\n62277.0\n==================================================\nChildren 2013\n23307.0\n==================================================\nChildren 2014\n17312.0\n==================================================\nChildren 2015\n28400.0\n==================================================\nDebris Burning 1992\n766244.0\n==================================================\nDebris Burning 1993\n685584.0\n==================================================\nDebris Burning 1994\n943589.0\n==================================================\nDebris Burning 1995\n1152194.0\n==================================================\nDebris Burning 1996\n883947.0\n==================================================\nDebris Burning 1997\n1124251.0\n==================================================\nDebris Burning 1998\n1998733.0\n==================================================\nDebris Burning 1999\n2845667.0\n==================================================\nDebris Burning 2000\n2173526.0\n==================================================\nDebris Burning 2001\n1958708.0\n==================================================\nDebris Burning 2002\n1498202.0\n==================================================\nDebris Burning 2003\n1340424.0\n==================================================\nDebris Burning 2004\n1677094.0\n==================================================\nDebris Burning 2005\n2329539.0\n==================================================\nDebris Burning 2006\n3059877.0\n==================================================\nDebris Burning 2007\n1891035.0\n==================================================\nDebris Burning 2008\n2299278.0\n==================================================\nDebris Burning 2009\n1848126.0\n==================================================\nDebris Burning 2010\n2212653.0\n==================================================\nDebris Burning 2011\n917859.0\n==================================================\nDebris Burning 2012\n800797.0\n==================================================\nDebris Burning 2013\n959236.0\n==================================================\nDebris Burning 2014\n877622.0\n==================================================\nDebris Burning 2015\n763921.0\n==================================================\nEquipment Use 1992\n638550.0\n==================================================\nEquipment Use 1993\n657162.0\n==================================================\nEquipment Use 1994\n582778.0\n==================================================\nEquipment Use 1995\n629934.0\n==================================================\nEquipment Use 1996\n641879.0\n==================================================\nEquipment Use 1997\n691549.0\n==================================================\nEquipment Use 1998\n855974.0\n==================================================\nEquipment Use 1999\n1065114.0\n==================================================\nEquipment Use 2000\n886861.0\n==================================================\nEquipment Use 2001\n834809.0\n==================================================\nEquipment Use 2002\n624239.0\n==================================================\nEquipment Use 2003\n742429.0\n==================================================\nEquipment Use 2004\n629535.0\n==================================================\nEquipment Use 2005\n998378.0\n==================================================\nEquipment Use 2006\n1284400.0\n==================================================\nEquipment Use 2007\n889697.0\n==================================================\nEquipment Use 2008\n1023375.0\n==================================================\nEquipment Use 2009\n691843.0\n==================================================\nEquipment Use 2010\n630758.0\n==================================================\nEquipment Use 2011\n645881.0\n==================================================\nEquipment Use 2012\n273307.0\n==================================================\nEquipment Use 2013\n226291.0\n==================================================\nEquipment Use 2014\n208988.0\n==================================================\nEquipment Use 2015\n298000.0\n==================================================\nFireworks 1992\n995.0\n==================================================\nFireworks 1993\n557.0\n==================================================\nFireworks 1994\n866.0\n==================================================\nFireworks 1995\n432.0\n==================================================\nFireworks 1996\n1996.0\n==================================================\nFireworks 1997\n10686.0\n==================================================\nFireworks 1998\n11043.0\n==================================================\nFireworks 1999\n7724.0\n==================================================\nFireworks 2000\n12574.0\n==================================================\nFireworks 2001\n12438.0\n==================================================\nFireworks 2002\n13573.0\n==================================================\nFireworks 2003\n6290.0\n==================================================\nFireworks 2004\n1645.0\n==================================================\nFireworks 2005\n3171.0\n==================================================\nFireworks 2006\n5961.0\n==================================================\nFireworks 2007\n10635.0\n==================================================\nFireworks 2008\n4097.0\n==================================================\nFireworks 2009\n27991.0\n==================================================\nFireworks 2010\n62286.0\n==================================================\nFireworks 2011\n984.0\n==================================================\nFireworks 2012\n6477.0\n==================================================\nFireworks 2013\n3467.0\n==================================================\nFireworks 2014\n3906.0\n==================================================\nFireworks 2015\n2790.0\n==================================================\nLightning 1992\n342395.0\n==================================================\nLightning 1993\n398192.0\n==================================================\nLightning 1994\n400560.0\n==================================================\nLightning 1995\n263065.0\n==================================================\nLightning 1996\n285342.0\n==================================================\nLightning 1997\n350842.0\n==================================================\nLightning 1998\n577775.0\n==================================================\nLightning 1999\n669506.0\n==================================================\nLightning 2000\n875076.0\n==================================================\nLightning 2001\n474570.0\n==================================================\nLightning 2002\n588834.0\n==================================================\nLightning 2003\n510470.0\n==================================================\nLightning 2004\n408061.0\n==================================================\nLightning 2005\n797413.0\n==================================================\nLightning 2006\n983411.0\n==================================================\nLightning 2007\n766472.0\n==================================================\nLightning 2008\n467709.0\n==================================================\nLightning 2009\n308491.0\n==================================================\nLightning 2010\n459421.0\n==================================================\nLightning 2011\n291250.0\n==================================================\nLightning 2012\n249099.0\n==================================================\nLightning 2013\n163735.0\n==================================================\nLightning 2014\n142954.0\n==================================================\nLightning 2015\n418284.0\n==================================================\nMiscellaneous 1992\n684238.0\n==================================================\nMiscellaneous 1993\n703063.0\n==================================================\nMiscellaneous 1994\n642822.0\n==================================================\nMiscellaneous 1995\n669628.0\n==================================================\nMiscellaneous 1996\n692001.0\n==================================================\nMiscellaneous 1997\n1149380.0\n==================================================\nMiscellaneous 1998\n1279111.0\n==================================================\nMiscellaneous 1999\n1632390.0\n==================================================\nMiscellaneous 2000\n2527167.0\n==================================================\nMiscellaneous 2001\n1186769.0\n==================================================\nMiscellaneous 2002\n1039126.0\n==================================================\nMiscellaneous 2003\n850006.0\n==================================================\nMiscellaneous 2004\n735291.0\n==================================================\nMiscellaneous 2005\n1298685.0\n==================================================\nMiscellaneous 2006\n2109032.0\n==================================================\nMiscellaneous 2007\n1586797.0\n==================================================\nMiscellaneous 2008\n2153216.0\n==================================================\nMiscellaneous 2009\n1352111.0\n==================================================\nMiscellaneous 2010\n2049261.0\n==================================================\nMiscellaneous 2011\n1377294.0\n==================================================\nMiscellaneous 2012\n946553.0\n==================================================\nMiscellaneous 2013\n732791.0\n==================================================\nMiscellaneous 2014\n1030376.0\n==================================================\nMiscellaneous 2015\n801732.0\n==================================================\nMissing/Undefined 1992\n308577.0\n==================================================\nMissing/Undefined 1993\n290425.0\n==================================================\nMissing/Undefined 1994\n689439.0\n==================================================\nMissing/Undefined 1995\n279952.0\n==================================================\nMissing/Undefined 1996\n343469.0\n==================================================\nMissing/Undefined 1997\n166564.0\n==================================================\nMissing/Undefined 1998\n188363.0\n==================================================\nMissing/Undefined 1999\n156176.0\n==================================================\nMissing/Undefined 2000\n120098.0\n==================================================\nMissing/Undefined 2001\n225397.0\n==================================================\nMissing/Undefined 2002\n219087.0\n==================================================\nMissing/Undefined 2003\n1146661.0\n==================================================\nMissing/Undefined 2004\n893971.0\n==================================================\nMissing/Undefined 2005\n1913093.0\n==================================================\nMissing/Undefined 2006\n1473040.0\n==================================================\nMissing/Undefined 2007\n2328143.0\n==================================================\nMissing/Undefined 2008\n1465276.0\n==================================================\nMissing/Undefined 2009\n1116764.0\n==================================================\nMissing/Undefined 2010\n1074052.0\n==================================================\nMissing/Undefined 2011\n1095515.0\n==================================================\nMissing/Undefined 2012\n466785.0\n==================================================\nMissing/Undefined 2013\n238613.0\n==================================================\nMissing/Undefined 2014\n53848.0\n==================================================\nMissing/Undefined 2015\n108823.0\n==================================================\nPowerline 1992\n117.0\n==================================================\nPowerline 1993\n245.0\n==================================================\nPowerline 1994\n30.0\n==================================================\nPowerline 1995\n45.0\n==================================================\nPowerline 1996\n3165.0\n==================================================\nPowerline 1997\n7965.0\n==================================================\nPowerline 1998\n17767.0\n==================================================\nPowerline 1999\n13915.0\n==================================================\nPowerline 2000\n11768.0\n==================================================\nPowerline 2001\n13309.0\n==================================================\nPowerline 2002\n9896.0\n==================================================\nPowerline 2003\n7630.0\n==================================================\nPowerline 2004\n4228.0\n==================================================\nPowerline 2005\n3832.0\n==================================================\nPowerline 2006\n4423.0\n==================================================\nPowerline 2007\n14949.0\n==================================================\nPowerline 2008\n2432.0\n==================================================\nPowerline 2009\n117837.0\n==================================================\nPowerline 2010\n161586.0\n==================================================\nPowerline 2011\n288456.0\n==================================================\nPowerline 2012\n95048.0\n==================================================\nPowerline 2013\n24467.0\n==================================================\nPowerline 2014\n99931.0\n==================================================\nPowerline 2015\n111981.0\n==================================================\nRailroad 1992\n215408.0\n==================================================\nRailroad 1993\n196767.0\n==================================================\nRailroad 1994\n193069.0\n==================================================\nRailroad 1995\n255446.0\n==================================================\nRailroad 1996\n337789.0\n==================================================\nRailroad 1997\n260371.0\n==================================================\nRailroad 1998\n200083.0\n==================================================\nRailroad 1999\n331857.0\n==================================================\nRailroad 2000\n384591.0\n==================================================\nRailroad 2001\n253530.0\n==================================================\nRailroad 2002\n189350.0\n==================================================\nRailroad 2003\n63687.0\n==================================================\nRailroad 2004\n67777.0\n==================================================\nRailroad 2005\n87383.0\n==================================================\nRailroad 2006\n103267.0\n==================================================\nRailroad 2007\n86902.0\n==================================================\nRailroad 2008\n81034.0\n==================================================\nRailroad 2009\n48734.0\n==================================================\nRailroad 2010\n70826.0\n==================================================\nRailroad 2011\n24313.0\n==================================================\nRailroad 2012\n18421.0\n==================================================\nRailroad 2013\n12611.0\n==================================================\nRailroad 2014\n13307.0\n==================================================\nRailroad 2015\n13479.0\n==================================================\nSmoking 1992\n200982.0\n==================================================\nSmoking 1993\n179814.0\n==================================================\nSmoking 1994\n175960.0\n==================================================\nSmoking 1995\n199687.0\n==================================================\nSmoking 1996\n156464.0\n==================================================\nSmoking 1997\n202407.0\n==================================================\nSmoking 1998\n320725.0\n==================================================\nSmoking 1999\n430376.0\n==================================================\nSmoking 2000\n347540.0\n==================================================\nSmoking 2001\n343469.0\n==================================================\nSmoking 2002\n224584.0\n==================================================\nSmoking 2003\n138391.0\n==================================================\nSmoking 2004\n138922.0\n==================================================\nSmoking 2005\n210994.0\n==================================================\nSmoking 2006\n289163.0\n==================================================\nSmoking 2007\n180559.0\n==================================================\nSmoking 2008\n190047.0\n==================================================\nSmoking 2009\n159303.0\n==================================================\nSmoking 2010\n245516.0\n==================================================\nSmoking 2011\n159897.0\n==================================================\nSmoking 2012\n77293.0\n==================================================\nSmoking 2013\n55837.0\n==================================================\nSmoking 2014\n99470.0\n==================================================\nSmoking 2015\n61793.0\n==================================================\nStructure 1992\n73.0\n==================================================\nStructure 1993\n52.0\n==================================================\nStructure 1994\n37.0\n==================================================\nStructure 1995\n36.0\n==================================================\nStructure 1996\n3191.0\n==================================================\nStructure 1997\n6278.0\n==================================================\nStructure 1998\n6699.0\n==================================================\nStructure 1999\n7871.0\n==================================================\nStructure 2000\n6084.0\n==================================================\nStructure 2001\n7678.0\n==================================================\nStructure 2002\n8963.0\n==================================================\nStructure 2003\n4106.0\n==================================================\nStructure 2004\n5078.0\n==================================================\nStructure 2005\n1878.0\n==================================================\nStructure 2006\n1150.0\n==================================================\nStructure 2007\n6492.0\n==================================================\nStructure 2008\n3274.0\n==================================================\nStructure 2009\n4372.0\n==================================================\nStructure 2010\n16896.0\n==================================================\nStructure 2011\n2096.0\n==================================================\nStructure 2012\n4563.0\n==================================================\nStructure 2013\n6517.0\n==================================================\nStructure 2014\n5245.0\n==================================================\nStructure 2015\n4262.0\n==================================================\n"
    }
   ],
   "source": [
    "for I,row in cont_df.iterrows():\n",
    "    print(I[0],I[1])\n",
    "    print(row.DAYS_TO_CONT)\n",
    "    print('='*50)"
   ]
  },
  {
   "cell_type": "code",
   "execution_count": 87,
   "metadata": {},
   "outputs": [
    {
     "data": {
      "text/plain": "50.71"
     },
     "execution_count": 87,
     "metadata": {},
     "output_type": "execute_result"
    }
   ],
   "source": [
    "arson = 0\n",
    "for row in Viz_df[['FIRE_YEAR','','STAT_CAUSE_DESCR']].head(200).iterrows():\n",
    "    if row[1].STAT_CAUSE_DESCR == 'Arson':\n",
    "        arson += row[1].FIRE_SIZE\n",
    "arson        "
   ]
  },
  {
   "cell_type": "code",
   "execution_count": 4,
   "metadata": {},
   "outputs": [],
   "source": [
    "df0 = pd.DataFrame(Viz_df.groupby(['STAT_CAUSE_DESCR']).FIRE_SIZE.sum())"
   ]
  },
  {
   "cell_type": "code",
   "execution_count": 5,
   "metadata": {},
   "outputs": [
    {
     "data": {
      "text/html": "<div>\n<style scoped>\n    .dataframe tbody tr th:only-of-type {\n        vertical-align: middle;\n    }\n\n    .dataframe tbody tr th {\n        vertical-align: top;\n    }\n\n    .dataframe thead th {\n        text-align: right;\n    }\n</style>\n<table border=\"1\" class=\"dataframe\">\n  <thead>\n    <tr style=\"text-align: right;\">\n      <th></th>\n      <th>FIRE_SIZE</th>\n    </tr>\n    <tr>\n      <th>STAT_CAUSE_DESCR</th>\n      <th></th>\n    </tr>\n  </thead>\n  <tbody>\n    <tr>\n      <th>Arson</th>\n      <td>9.487274e+06</td>\n    </tr>\n    <tr>\n      <th>Campfire</th>\n      <td>3.429061e+06</td>\n    </tr>\n    <tr>\n      <th>Children</th>\n      <td>4.698303e+05</td>\n    </tr>\n    <tr>\n      <th>Debris Burning</th>\n      <td>5.975793e+06</td>\n    </tr>\n    <tr>\n      <th>Equipment Use</th>\n      <td>6.799046e+06</td>\n    </tr>\n    <tr>\n      <th>Fireworks</th>\n      <td>3.182073e+05</td>\n    </tr>\n    <tr>\n      <th>Lightning</th>\n      <td>8.703350e+07</td>\n    </tr>\n    <tr>\n      <th>Miscellaneous</th>\n      <td>1.439420e+07</td>\n    </tr>\n    <tr>\n      <th>Missing/Undefined</th>\n      <td>8.751725e+06</td>\n    </tr>\n    <tr>\n      <th>Powerline</th>\n      <td>1.609443e+06</td>\n    </tr>\n    <tr>\n      <th>Railroad</th>\n      <td>8.496138e+05</td>\n    </tr>\n    <tr>\n      <th>Smoking</th>\n      <td>8.426605e+05</td>\n    </tr>\n    <tr>\n      <th>Structure</th>\n      <td>1.721894e+05</td>\n    </tr>\n  </tbody>\n</table>\n</div>",
      "text/plain": "                      FIRE_SIZE\nSTAT_CAUSE_DESCR               \nArson              9.487274e+06\nCampfire           3.429061e+06\nChildren           4.698303e+05\nDebris Burning     5.975793e+06\nEquipment Use      6.799046e+06\nFireworks          3.182073e+05\nLightning          8.703350e+07\nMiscellaneous      1.439420e+07\nMissing/Undefined  8.751725e+06\nPowerline          1.609443e+06\nRailroad           8.496138e+05\nSmoking            8.426605e+05\nStructure          1.721894e+05"
     },
     "execution_count": 5,
     "metadata": {},
     "output_type": "execute_result"
    }
   ],
   "source": [
    "df0"
   ]
  },
  {
   "cell_type": "code",
   "execution_count": 6,
   "metadata": {},
   "outputs": [],
   "source": [
    "df1 = pd.DataFrame(Viz_df.STAT_CAUSE_DESCR.value_counts())"
   ]
  },
  {
   "cell_type": "code",
   "execution_count": 7,
   "metadata": {},
   "outputs": [
    {
     "data": {
      "text/html": "<div>\n<style scoped>\n    .dataframe tbody tr th:only-of-type {\n        vertical-align: middle;\n    }\n\n    .dataframe tbody tr th {\n        vertical-align: top;\n    }\n\n    .dataframe thead th {\n        text-align: right;\n    }\n</style>\n<table border=\"1\" class=\"dataframe\">\n  <thead>\n    <tr style=\"text-align: right;\">\n      <th></th>\n      <th>STAT_CAUSE_DESCR</th>\n    </tr>\n  </thead>\n  <tbody>\n    <tr>\n      <th>Debris Burning</th>\n      <td>429028</td>\n    </tr>\n    <tr>\n      <th>Miscellaneous</th>\n      <td>323805</td>\n    </tr>\n    <tr>\n      <th>Arson</th>\n      <td>281455</td>\n    </tr>\n    <tr>\n      <th>Lightning</th>\n      <td>278468</td>\n    </tr>\n    <tr>\n      <th>Missing/Undefined</th>\n      <td>166723</td>\n    </tr>\n    <tr>\n      <th>Equipment Use</th>\n      <td>147612</td>\n    </tr>\n    <tr>\n      <th>Campfire</th>\n      <td>76139</td>\n    </tr>\n    <tr>\n      <th>Children</th>\n      <td>61167</td>\n    </tr>\n    <tr>\n      <th>Smoking</th>\n      <td>52869</td>\n    </tr>\n    <tr>\n      <th>Railroad</th>\n      <td>33455</td>\n    </tr>\n    <tr>\n      <th>Powerline</th>\n      <td>14448</td>\n    </tr>\n    <tr>\n      <th>Fireworks</th>\n      <td>11500</td>\n    </tr>\n    <tr>\n      <th>Structure</th>\n      <td>3796</td>\n    </tr>\n  </tbody>\n</table>\n</div>",
      "text/plain": "                   STAT_CAUSE_DESCR\nDebris Burning               429028\nMiscellaneous                323805\nArson                        281455\nLightning                    278468\nMissing/Undefined            166723\nEquipment Use                147612\nCampfire                      76139\nChildren                      61167\nSmoking                       52869\nRailroad                      33455\nPowerline                     14448\nFireworks                     11500\nStructure                      3796"
     },
     "execution_count": 7,
     "metadata": {},
     "output_type": "execute_result"
    }
   ],
   "source": [
    "df1"
   ]
  },
  {
   "cell_type": "code",
   "execution_count": 8,
   "metadata": {},
   "outputs": [],
   "source": [
    "df2 = df0.merge(df1,left_index=True,right_index=True)"
   ]
  },
  {
   "cell_type": "code",
   "execution_count": 9,
   "metadata": {},
   "outputs": [
    {
     "data": {
      "text/html": "<div>\n<style scoped>\n    .dataframe tbody tr th:only-of-type {\n        vertical-align: middle;\n    }\n\n    .dataframe tbody tr th {\n        vertical-align: top;\n    }\n\n    .dataframe thead th {\n        text-align: right;\n    }\n</style>\n<table border=\"1\" class=\"dataframe\">\n  <thead>\n    <tr style=\"text-align: right;\">\n      <th></th>\n      <th>FIRE_SIZE</th>\n      <th>STAT_CAUSE_DESCR</th>\n    </tr>\n  </thead>\n  <tbody>\n    <tr>\n      <th>Arson</th>\n      <td>9.487274e+06</td>\n      <td>281455</td>\n    </tr>\n    <tr>\n      <th>Campfire</th>\n      <td>3.429061e+06</td>\n      <td>76139</td>\n    </tr>\n    <tr>\n      <th>Children</th>\n      <td>4.698303e+05</td>\n      <td>61167</td>\n    </tr>\n    <tr>\n      <th>Debris Burning</th>\n      <td>5.975793e+06</td>\n      <td>429028</td>\n    </tr>\n    <tr>\n      <th>Equipment Use</th>\n      <td>6.799046e+06</td>\n      <td>147612</td>\n    </tr>\n    <tr>\n      <th>Fireworks</th>\n      <td>3.182073e+05</td>\n      <td>11500</td>\n    </tr>\n    <tr>\n      <th>Lightning</th>\n      <td>8.703350e+07</td>\n      <td>278468</td>\n    </tr>\n    <tr>\n      <th>Miscellaneous</th>\n      <td>1.439420e+07</td>\n      <td>323805</td>\n    </tr>\n    <tr>\n      <th>Missing/Undefined</th>\n      <td>8.751725e+06</td>\n      <td>166723</td>\n    </tr>\n    <tr>\n      <th>Powerline</th>\n      <td>1.609443e+06</td>\n      <td>14448</td>\n    </tr>\n    <tr>\n      <th>Railroad</th>\n      <td>8.496138e+05</td>\n      <td>33455</td>\n    </tr>\n    <tr>\n      <th>Smoking</th>\n      <td>8.426605e+05</td>\n      <td>52869</td>\n    </tr>\n    <tr>\n      <th>Structure</th>\n      <td>1.721894e+05</td>\n      <td>3796</td>\n    </tr>\n  </tbody>\n</table>\n</div>",
      "text/plain": "                      FIRE_SIZE  STAT_CAUSE_DESCR\nArson              9.487274e+06            281455\nCampfire           3.429061e+06             76139\nChildren           4.698303e+05             61167\nDebris Burning     5.975793e+06            429028\nEquipment Use      6.799046e+06            147612\nFireworks          3.182073e+05             11500\nLightning          8.703350e+07            278468\nMiscellaneous      1.439420e+07            323805\nMissing/Undefined  8.751725e+06            166723\nPowerline          1.609443e+06             14448\nRailroad           8.496138e+05             33455\nSmoking            8.426605e+05             52869\nStructure          1.721894e+05              3796"
     },
     "execution_count": 9,
     "metadata": {},
     "output_type": "execute_result"
    }
   ],
   "source": [
    "df2"
   ]
  },
  {
   "cell_type": "code",
   "execution_count": 20,
   "metadata": {},
   "outputs": [],
   "source": [
    "vpie_data = []\n",
    "for index,data in df2.iterrows():\n",
    "    each_slice = {\n",
    "        \"name\": index,\n",
    "        \"y\": round(data.FIRE_SIZE,2),\n",
    "        \"z\": int(data.STAT_CAUSE_DESCR)\n",
    "    }\n",
    "    vpie_data.append(each_slice)"
   ]
  },
  {
   "cell_type": "code",
   "execution_count": 21,
   "metadata": {},
   "outputs": [
    {
     "data": {
      "text/plain": "[{'name': 'Arson', 'y': 9487274.16, 'z': 281455},\n {'name': 'Campfire', 'y': 3429061.46, 'z': 76139},\n {'name': 'Children', 'y': 469830.29, 'z': 61167},\n {'name': 'Debris Burning', 'y': 5975792.71, 'z': 429028},\n {'name': 'Equipment Use', 'y': 6799046.37, 'z': 147612},\n {'name': 'Fireworks', 'y': 318207.31, 'z': 11500},\n {'name': 'Lightning', 'y': 87033501.02, 'z': 278468},\n {'name': 'Miscellaneous', 'y': 14394204.2, 'z': 323805},\n {'name': 'Missing/Undefined', 'y': 8751725.49, 'z': 166723},\n {'name': 'Powerline', 'y': 1609442.86, 'z': 14448},\n {'name': 'Railroad', 'y': 849613.77, 'z': 33455},\n {'name': 'Smoking', 'y': 842660.52, 'z': 52869},\n {'name': 'Structure', 'y': 172189.39, 'z': 3796}]"
     },
     "execution_count": 21,
     "metadata": {},
     "output_type": "execute_result"
    }
   ],
   "source": [
    "vpie_data"
   ]
  },
  {
   "cell_type": "code",
   "execution_count": 31,
   "metadata": {},
   "outputs": [
    {
     "data": {
      "text/html": "<div>\n<style scoped>\n    .dataframe tbody tr th:only-of-type {\n        vertical-align: middle;\n    }\n\n    .dataframe tbody tr th {\n        vertical-align: top;\n    }\n\n    .dataframe thead th {\n        text-align: right;\n    }\n</style>\n<table border=\"1\" class=\"dataframe\">\n  <thead>\n    <tr style=\"text-align: right;\">\n      <th>FIRE_YEAR</th>\n      <th>1992</th>\n      <th>1993</th>\n      <th>1994</th>\n      <th>1995</th>\n      <th>1996</th>\n      <th>1997</th>\n      <th>1998</th>\n      <th>1999</th>\n      <th>2000</th>\n      <th>2001</th>\n      <th>...</th>\n      <th>2006</th>\n      <th>2007</th>\n      <th>2008</th>\n      <th>2009</th>\n      <th>2010</th>\n      <th>2011</th>\n      <th>2012</th>\n      <th>2013</th>\n      <th>2014</th>\n      <th>2015</th>\n    </tr>\n    <tr>\n      <th>STAT_CAUSE_DESCR</th>\n      <th></th>\n      <th></th>\n      <th></th>\n      <th></th>\n      <th></th>\n      <th></th>\n      <th></th>\n      <th></th>\n      <th></th>\n      <th></th>\n      <th></th>\n      <th></th>\n      <th></th>\n      <th></th>\n      <th></th>\n      <th></th>\n      <th></th>\n      <th></th>\n      <th></th>\n      <th></th>\n      <th></th>\n    </tr>\n  </thead>\n  <tbody>\n    <tr>\n      <th>Arson</th>\n      <td>618391</td>\n      <td>606053</td>\n      <td>478178</td>\n      <td>630855</td>\n      <td>413389</td>\n      <td>971202</td>\n      <td>1665608</td>\n      <td>2273776</td>\n      <td>2374672</td>\n      <td>1839656</td>\n      <td>...</td>\n      <td>1785206</td>\n      <td>943502</td>\n      <td>803800</td>\n      <td>553930</td>\n      <td>868114</td>\n      <td>268422</td>\n      <td>174803</td>\n      <td>133296</td>\n      <td>164384</td>\n      <td>86334</td>\n    </tr>\n    <tr>\n      <th>Campfire</th>\n      <td>64031</td>\n      <td>99188</td>\n      <td>233714</td>\n      <td>324954</td>\n      <td>230477</td>\n      <td>104897</td>\n      <td>128210</td>\n      <td>182645</td>\n      <td>134881</td>\n      <td>147059</td>\n      <td>...</td>\n      <td>162571</td>\n      <td>195159</td>\n      <td>170812</td>\n      <td>92912</td>\n      <td>205517</td>\n      <td>42351</td>\n      <td>65298</td>\n      <td>35710</td>\n      <td>59382</td>\n      <td>49344</td>\n    </tr>\n    <tr>\n      <th>Children</th>\n      <td>249234</td>\n      <td>224607</td>\n      <td>251189</td>\n      <td>275816</td>\n      <td>231417</td>\n      <td>250782</td>\n      <td>321867</td>\n      <td>351209</td>\n      <td>289858</td>\n      <td>338519</td>\n      <td>...</td>\n      <td>300723</td>\n      <td>251239</td>\n      <td>218345</td>\n      <td>173054</td>\n      <td>167748</td>\n      <td>123826</td>\n      <td>62277</td>\n      <td>23307</td>\n      <td>17312</td>\n      <td>28400</td>\n    </tr>\n    <tr>\n      <th>Debris Burning</th>\n      <td>766244</td>\n      <td>685584</td>\n      <td>943589</td>\n      <td>1152194</td>\n      <td>883947</td>\n      <td>1124251</td>\n      <td>1998733</td>\n      <td>2845667</td>\n      <td>2173526</td>\n      <td>1958708</td>\n      <td>...</td>\n      <td>3059877</td>\n      <td>1891035</td>\n      <td>2299278</td>\n      <td>1848126</td>\n      <td>2212653</td>\n      <td>917859</td>\n      <td>800797</td>\n      <td>959236</td>\n      <td>877622</td>\n      <td>763921</td>\n    </tr>\n    <tr>\n      <th>Equipment Use</th>\n      <td>638550</td>\n      <td>657162</td>\n      <td>582778</td>\n      <td>629934</td>\n      <td>641879</td>\n      <td>691549</td>\n      <td>855974</td>\n      <td>1065114</td>\n      <td>886861</td>\n      <td>834809</td>\n      <td>...</td>\n      <td>1284400</td>\n      <td>889697</td>\n      <td>1023375</td>\n      <td>691843</td>\n      <td>630758</td>\n      <td>645881</td>\n      <td>273307</td>\n      <td>226291</td>\n      <td>208988</td>\n      <td>298000</td>\n    </tr>\n    <tr>\n      <th>Fireworks</th>\n      <td>995</td>\n      <td>557</td>\n      <td>866</td>\n      <td>432</td>\n      <td>1996</td>\n      <td>10686</td>\n      <td>11043</td>\n      <td>7724</td>\n      <td>12574</td>\n      <td>12438</td>\n      <td>...</td>\n      <td>5961</td>\n      <td>10635</td>\n      <td>4097</td>\n      <td>27991</td>\n      <td>62286</td>\n      <td>984</td>\n      <td>6477</td>\n      <td>3467</td>\n      <td>3906</td>\n      <td>2790</td>\n    </tr>\n    <tr>\n      <th>Lightning</th>\n      <td>342395</td>\n      <td>398192</td>\n      <td>400560</td>\n      <td>263065</td>\n      <td>285342</td>\n      <td>350842</td>\n      <td>577775</td>\n      <td>669506</td>\n      <td>875076</td>\n      <td>474570</td>\n      <td>...</td>\n      <td>983411</td>\n      <td>766472</td>\n      <td>467709</td>\n      <td>308491</td>\n      <td>459421</td>\n      <td>291250</td>\n      <td>249099</td>\n      <td>163735</td>\n      <td>142954</td>\n      <td>418284</td>\n    </tr>\n    <tr>\n      <th>Miscellaneous</th>\n      <td>684238</td>\n      <td>703063</td>\n      <td>642822</td>\n      <td>669628</td>\n      <td>692001</td>\n      <td>1149380</td>\n      <td>1279111</td>\n      <td>1632390</td>\n      <td>2527167</td>\n      <td>1186769</td>\n      <td>...</td>\n      <td>2109032</td>\n      <td>1586797</td>\n      <td>2153216</td>\n      <td>1352111</td>\n      <td>2049261</td>\n      <td>1377294</td>\n      <td>946553</td>\n      <td>732791</td>\n      <td>1030376</td>\n      <td>801732</td>\n    </tr>\n    <tr>\n      <th>Missing/Undefined</th>\n      <td>308577</td>\n      <td>290425</td>\n      <td>689439</td>\n      <td>279952</td>\n      <td>343469</td>\n      <td>166564</td>\n      <td>188363</td>\n      <td>156176</td>\n      <td>120098</td>\n      <td>225397</td>\n      <td>...</td>\n      <td>1473040</td>\n      <td>2328143</td>\n      <td>1465276</td>\n      <td>1116764</td>\n      <td>1074052</td>\n      <td>1095515</td>\n      <td>466785</td>\n      <td>238613</td>\n      <td>53848</td>\n      <td>108823</td>\n    </tr>\n    <tr>\n      <th>Powerline</th>\n      <td>117</td>\n      <td>245</td>\n      <td>30</td>\n      <td>45</td>\n      <td>3165</td>\n      <td>7965</td>\n      <td>17767</td>\n      <td>13915</td>\n      <td>11768</td>\n      <td>13309</td>\n      <td>...</td>\n      <td>4423</td>\n      <td>14949</td>\n      <td>2432</td>\n      <td>117837</td>\n      <td>161586</td>\n      <td>288456</td>\n      <td>95048</td>\n      <td>24467</td>\n      <td>99931</td>\n      <td>111981</td>\n    </tr>\n    <tr>\n      <th>Railroad</th>\n      <td>215408</td>\n      <td>196767</td>\n      <td>193069</td>\n      <td>255446</td>\n      <td>337789</td>\n      <td>260371</td>\n      <td>200083</td>\n      <td>331857</td>\n      <td>384591</td>\n      <td>253530</td>\n      <td>...</td>\n      <td>103267</td>\n      <td>86902</td>\n      <td>81034</td>\n      <td>48734</td>\n      <td>70826</td>\n      <td>24313</td>\n      <td>18421</td>\n      <td>12611</td>\n      <td>13307</td>\n      <td>13479</td>\n    </tr>\n    <tr>\n      <th>Smoking</th>\n      <td>200982</td>\n      <td>179814</td>\n      <td>175960</td>\n      <td>199687</td>\n      <td>156464</td>\n      <td>202407</td>\n      <td>320725</td>\n      <td>430376</td>\n      <td>347540</td>\n      <td>343469</td>\n      <td>...</td>\n      <td>289163</td>\n      <td>180559</td>\n      <td>190047</td>\n      <td>159303</td>\n      <td>245516</td>\n      <td>159897</td>\n      <td>77293</td>\n      <td>55837</td>\n      <td>99470</td>\n      <td>61793</td>\n    </tr>\n    <tr>\n      <th>Structure</th>\n      <td>73</td>\n      <td>52</td>\n      <td>37</td>\n      <td>36</td>\n      <td>3191</td>\n      <td>6278</td>\n      <td>6699</td>\n      <td>7871</td>\n      <td>6084</td>\n      <td>7678</td>\n      <td>...</td>\n      <td>1150</td>\n      <td>6492</td>\n      <td>3274</td>\n      <td>4372</td>\n      <td>16896</td>\n      <td>2096</td>\n      <td>4563</td>\n      <td>6517</td>\n      <td>5245</td>\n      <td>4262</td>\n    </tr>\n  </tbody>\n</table>\n<p>13 rows × 24 columns</p>\n</div>",
      "text/plain": "FIRE_YEAR            1992    1993    1994     1995    1996     1997     1998  \\\nSTAT_CAUSE_DESCR                                                               \nArson              618391  606053  478178   630855  413389   971202  1665608   \nCampfire            64031   99188  233714   324954  230477   104897   128210   \nChildren           249234  224607  251189   275816  231417   250782   321867   \nDebris Burning     766244  685584  943589  1152194  883947  1124251  1998733   \nEquipment Use      638550  657162  582778   629934  641879   691549   855974   \nFireworks             995     557     866      432    1996    10686    11043   \nLightning          342395  398192  400560   263065  285342   350842   577775   \nMiscellaneous      684238  703063  642822   669628  692001  1149380  1279111   \nMissing/Undefined  308577  290425  689439   279952  343469   166564   188363   \nPowerline             117     245      30       45    3165     7965    17767   \nRailroad           215408  196767  193069   255446  337789   260371   200083   \nSmoking            200982  179814  175960   199687  156464   202407   320725   \nStructure              73      52      37       36    3191     6278     6699   \n\nFIRE_YEAR             1999     2000     2001  ...     2006     2007     2008  \\\nSTAT_CAUSE_DESCR                              ...                              \nArson              2273776  2374672  1839656  ...  1785206   943502   803800   \nCampfire            182645   134881   147059  ...   162571   195159   170812   \nChildren            351209   289858   338519  ...   300723   251239   218345   \nDebris Burning     2845667  2173526  1958708  ...  3059877  1891035  2299278   \nEquipment Use      1065114   886861   834809  ...  1284400   889697  1023375   \nFireworks             7724    12574    12438  ...     5961    10635     4097   \nLightning           669506   875076   474570  ...   983411   766472   467709   \nMiscellaneous      1632390  2527167  1186769  ...  2109032  1586797  2153216   \nMissing/Undefined   156176   120098   225397  ...  1473040  2328143  1465276   \nPowerline            13915    11768    13309  ...     4423    14949     2432   \nRailroad            331857   384591   253530  ...   103267    86902    81034   \nSmoking             430376   347540   343469  ...   289163   180559   190047   \nStructure             7871     6084     7678  ...     1150     6492     3274   \n\nFIRE_YEAR             2009     2010     2011    2012    2013     2014    2015  \nSTAT_CAUSE_DESCR                                                               \nArson               553930   868114   268422  174803  133296   164384   86334  \nCampfire             92912   205517    42351   65298   35710    59382   49344  \nChildren            173054   167748   123826   62277   23307    17312   28400  \nDebris Burning     1848126  2212653   917859  800797  959236   877622  763921  \nEquipment Use       691843   630758   645881  273307  226291   208988  298000  \nFireworks            27991    62286      984    6477    3467     3906    2790  \nLightning           308491   459421   291250  249099  163735   142954  418284  \nMiscellaneous      1352111  2049261  1377294  946553  732791  1030376  801732  \nMissing/Undefined  1116764  1074052  1095515  466785  238613    53848  108823  \nPowerline           117837   161586   288456   95048   24467    99931  111981  \nRailroad             48734    70826    24313   18421   12611    13307   13479  \nSmoking             159303   245516   159897   77293   55837    99470   61793  \nStructure             4372    16896     2096    4563    6517     5245    4262  \n\n[13 rows x 24 columns]"
     },
     "execution_count": 31,
     "metadata": {},
     "output_type": "execute_result"
    }
   ],
   "source": [
    "cont_pivot = pd.pivot_table(Viz_df, values='DAYS_TO_CONT', columns=['FIRE_YEAR'],\n",
    "                    index=['STAT_CAUSE_DESCR'], aggfunc=np.sum, fill_value=0)\n",
    "cont_pivot"
   ]
  },
  {
   "cell_type": "code",
   "execution_count": 59,
   "metadata": {},
   "outputs": [
    {
     "name": "stdout",
     "output_type": "stream",
     "text": "Arson\n[1992, 1993, 1994, 1995, 1996, 1997, 1998, 1999, 2000, 2001, 2002, 2003, 2004, 2005, 2006, 2007, 2008, 2009, 2010, 2011, 2012, 2013, 2014, 2015]\n[618391, 606053, 478178, 630855, 413389, 971202, 1665608, 2273776, 2374672, 1839656, 1154331, 775350, 951382, 1197313, 1785206, 943502, 803800, 553930, 868114, 268422, 174803, 133296, 164384, 86334]\nCampfire\n[1992, 1993, 1994, 1995, 1996, 1997, 1998, 1999, 2000, 2001, 2002, 2003, 2004, 2005, 2006, 2007, 2008, 2009, 2010, 2011, 2012, 2013, 2014, 2015]\n[64031, 99188, 233714, 324954, 230477, 104897, 128210, 182645, 134881, 147059, 128326, 119696, 113549, 361914, 162571, 195159, 170812, 92912, 205517, 42351, 65298, 35710, 59382, 49344]\nChildren\n[1992, 1993, 1994, 1995, 1996, 1997, 1998, 1999, 2000, 2001, 2002, 2003, 2004, 2005, 2006, 2007, 2008, 2009, 2010, 2011, 2012, 2013, 2014, 2015]\n[249234, 224607, 251189, 275816, 231417, 250782, 321867, 351209, 289858, 338519, 244286, 157613, 183608, 244053, 300723, 251239, 218345, 173054, 167748, 123826, 62277, 23307, 17312, 28400]\nDebris Burning\n[1992, 1993, 1994, 1995, 1996, 1997, 1998, 1999, 2000, 2001, 2002, 2003, 2004, 2005, 2006, 2007, 2008, 2009, 2010, 2011, 2012, 2013, 2014, 2015]\n[766244, 685584, 943589, 1152194, 883947, 1124251, 1998733, 2845667, 2173526, 1958708, 1498202, 1340424, 1677094, 2329539, 3059877, 1891035, 2299278, 1848126, 2212653, 917859, 800797, 959236, 877622, 763921]\nEquipment Use\n[1992, 1993, 1994, 1995, 1996, 1997, 1998, 1999, 2000, 2001, 2002, 2003, 2004, 2005, 2006, 2007, 2008, 2009, 2010, 2011, 2012, 2013, 2014, 2015]\n[638550, 657162, 582778, 629934, 641879, 691549, 855974, 1065114, 886861, 834809, 624239, 742429, 629535, 998378, 1284400, 889697, 1023375, 691843, 630758, 645881, 273307, 226291, 208988, 298000]\nFireworks\n[1992, 1993, 1994, 1995, 1996, 1997, 1998, 1999, 2000, 2001, 2002, 2003, 2004, 2005, 2006, 2007, 2008, 2009, 2010, 2011, 2012, 2013, 2014, 2015]\n[995, 557, 866, 432, 1996, 10686, 11043, 7724, 12574, 12438, 13573, 6290, 1645, 3171, 5961, 10635, 4097, 27991, 62286, 984, 6477, 3467, 3906, 2790]\nLightning\n[1992, 1993, 1994, 1995, 1996, 1997, 1998, 1999, 2000, 2001, 2002, 2003, 2004, 2005, 2006, 2007, 2008, 2009, 2010, 2011, 2012, 2013, 2014, 2015]\n[342395, 398192, 400560, 263065, 285342, 350842, 577775, 669506, 875076, 474570, 588834, 510470, 408061, 797413, 983411, 766472, 467709, 308491, 459421, 291250, 249099, 163735, 142954, 418284]\nMiscellaneous\n[1992, 1993, 1994, 1995, 1996, 1997, 1998, 1999, 2000, 2001, 2002, 2003, 2004, 2005, 2006, 2007, 2008, 2009, 2010, 2011, 2012, 2013, 2014, 2015]\n[684238, 703063, 642822, 669628, 692001, 1149380, 1279111, 1632390, 2527167, 1186769, 1039126, 850006, 735291, 1298685, 2109032, 1586797, 2153216, 1352111, 2049261, 1377294, 946553, 732791, 1030376, 801732]\nMissing/Undefined\n[1992, 1993, 1994, 1995, 1996, 1997, 1998, 1999, 2000, 2001, 2002, 2003, 2004, 2005, 2006, 2007, 2008, 2009, 2010, 2011, 2012, 2013, 2014, 2015]\n[308577, 290425, 689439, 279952, 343469, 166564, 188363, 156176, 120098, 225397, 219087, 1146661, 893971, 1913093, 1473040, 2328143, 1465276, 1116764, 1074052, 1095515, 466785, 238613, 53848, 108823]\nPowerline\n[1992, 1993, 1994, 1995, 1996, 1997, 1998, 1999, 2000, 2001, 2002, 2003, 2004, 2005, 2006, 2007, 2008, 2009, 2010, 2011, 2012, 2013, 2014, 2015]\n[117, 245, 30, 45, 3165, 7965, 17767, 13915, 11768, 13309, 9896, 7630, 4228, 3832, 4423, 14949, 2432, 117837, 161586, 288456, 95048, 24467, 99931, 111981]\nRailroad\n[1992, 1993, 1994, 1995, 1996, 1997, 1998, 1999, 2000, 2001, 2002, 2003, 2004, 2005, 2006, 2007, 2008, 2009, 2010, 2011, 2012, 2013, 2014, 2015]\n[215408, 196767, 193069, 255446, 337789, 260371, 200083, 331857, 384591, 253530, 189350, 63687, 67777, 87383, 103267, 86902, 81034, 48734, 70826, 24313, 18421, 12611, 13307, 13479]\nSmoking\n[1992, 1993, 1994, 1995, 1996, 1997, 1998, 1999, 2000, 2001, 2002, 2003, 2004, 2005, 2006, 2007, 2008, 2009, 2010, 2011, 2012, 2013, 2014, 2015]\n[200982, 179814, 175960, 199687, 156464, 202407, 320725, 430376, 347540, 343469, 224584, 138391, 138922, 210994, 289163, 180559, 190047, 159303, 245516, 159897, 77293, 55837, 99470, 61793]\nStructure\n[1992, 1993, 1994, 1995, 1996, 1997, 1998, 1999, 2000, 2001, 2002, 2003, 2004, 2005, 2006, 2007, 2008, 2009, 2010, 2011, 2012, 2013, 2014, 2015]\n[73, 52, 37, 36, 3191, 6278, 6699, 7871, 6084, 7678, 8963, 4106, 5078, 1878, 1150, 6492, 3274, 4372, 16896, 2096, 4563, 6517, 5245, 4262]\n"
    }
   ],
   "source": [
    "cont_list = []\n",
    "for index,group in cont_pivot.iterrows():\n",
    "    print(index)\n",
    "    years = [index_ for index_,item in group.iteritems()]\n",
    "    nums = [item for index_,item in group.iteritems()]\n",
    "    print(years)\n",
    "    print(nums)\n",
    "    each_cause ={\n",
    "        \"cause\": index,\n",
    "        \"data\": {\n",
    "            \"years\": years,\n",
    "            \"data\": nums}\n",
    "            }\n",
    "    cont_list.append(each_cause)"
   ]
  },
  {
   "cell_type": "code",
   "execution_count": 60,
   "metadata": {},
   "outputs": [
    {
     "data": {
      "text/plain": "{'cause': 'Arson',\n 'data': {'years': [1992,\n   1993,\n   1994,\n   1995,\n   1996,\n   1997,\n   1998,\n   1999,\n   2000,\n   2001,\n   2002,\n   2003,\n   2004,\n   2005,\n   2006,\n   2007,\n   2008,\n   2009,\n   2010,\n   2011,\n   2012,\n   2013,\n   2014,\n   2015],\n  'data': [618391,\n   606053,\n   478178,\n   630855,\n   413389,\n   971202,\n   1665608,\n   2273776,\n   2374672,\n   1839656,\n   1154331,\n   775350,\n   951382,\n   1197313,\n   1785206,\n   943502,\n   803800,\n   553930,\n   868114,\n   268422,\n   174803,\n   133296,\n   164384,\n   86334]}}"
     },
     "execution_count": 60,
     "metadata": {},
     "output_type": "execute_result"
    }
   ],
   "source": [
    "cont_list[0]"
   ]
  },
  {
   "cell_type": "code",
   "execution_count": 36,
   "metadata": {},
   "outputs": [
    {
     "data": {
      "text/plain": "['1992',\n '1993',\n '1994',\n '1995',\n '1996',\n '1997',\n '1998',\n '1999',\n '2000',\n '2001',\n '2002',\n '2003',\n '2004',\n '2005',\n '2006',\n '2007',\n '2008',\n '2009',\n '2010',\n '2011',\n '2012',\n '2013',\n '2014',\n '2015']"
     },
     "execution_count": 36,
     "metadata": {},
     "output_type": "execute_result"
    }
   ],
   "source": [
    "[str(col) for col in cont_pivot.columns]"
   ]
  },
  {
   "cell_type": "code",
   "execution_count": 48,
   "metadata": {},
   "outputs": [
    {
     "data": {
      "text/html": "<div>\n<style scoped>\n    .dataframe tbody tr th:only-of-type {\n        vertical-align: middle;\n    }\n\n    .dataframe tbody tr th {\n        vertical-align: top;\n    }\n\n    .dataframe thead th {\n        text-align: right;\n    }\n</style>\n<table border=\"1\" class=\"dataframe\">\n  <thead>\n    <tr style=\"text-align: right;\">\n      <th>STAT_CAUSE_DESCR</th>\n      <th>Arson</th>\n      <th>Campfire</th>\n      <th>Children</th>\n      <th>Debris Burning</th>\n      <th>Equipment Use</th>\n      <th>Fireworks</th>\n      <th>Lightning</th>\n      <th>Miscellaneous</th>\n      <th>Missing/Undefined</th>\n      <th>Powerline</th>\n      <th>Railroad</th>\n      <th>Smoking</th>\n      <th>Structure</th>\n    </tr>\n    <tr>\n      <th>FIRE_YEAR</th>\n      <th></th>\n      <th></th>\n      <th></th>\n      <th></th>\n      <th></th>\n      <th></th>\n      <th></th>\n      <th></th>\n      <th></th>\n      <th></th>\n      <th></th>\n      <th></th>\n      <th></th>\n    </tr>\n  </thead>\n  <tbody>\n    <tr>\n      <th>1992</th>\n      <td>2.673273e+05</td>\n      <td>26931.74000</td>\n      <td>50900.50300</td>\n      <td>154201.142000</td>\n      <td>136179.23900</td>\n      <td>2619.000</td>\n      <td>1.007120e+06</td>\n      <td>3.023052e+05</td>\n      <td>1.579517e+05</td>\n      <td>3181.100</td>\n      <td>38062.04000</td>\n      <td>52704.85800</td>\n      <td>474.100</td>\n    </tr>\n    <tr>\n      <th>1993</th>\n      <td>1.936218e+05</td>\n      <td>30402.97900</td>\n      <td>13744.14900</td>\n      <td>109894.683000</td>\n      <td>122668.21000</td>\n      <td>6908.800</td>\n      <td>1.112361e+06</td>\n      <td>2.178351e+05</td>\n      <td>2.494437e+05</td>\n      <td>34542.000</td>\n      <td>43204.84800</td>\n      <td>57012.01000</td>\n      <td>56.800</td>\n    </tr>\n    <tr>\n      <th>1994</th>\n      <td>4.771476e+05</td>\n      <td>69247.40000</td>\n      <td>14479.98400</td>\n      <td>182475.810000</td>\n      <td>137054.61000</td>\n      <td>16026.700</td>\n      <td>2.393715e+06</td>\n      <td>1.863755e+05</td>\n      <td>4.874956e+05</td>\n      <td>17243.400</td>\n      <td>41323.07000</td>\n      <td>58814.55300</td>\n      <td>35276.500</td>\n    </tr>\n    <tr>\n      <th>1995</th>\n      <td>2.900689e+05</td>\n      <td>68101.02300</td>\n      <td>16675.84800</td>\n      <td>191292.641000</td>\n      <td>116224.27900</td>\n      <td>3678.800</td>\n      <td>8.313469e+05</td>\n      <td>1.835899e+05</td>\n      <td>2.437914e+05</td>\n      <td>28085.200</td>\n      <td>23561.54000</td>\n      <td>51976.18000</td>\n      <td>1192.500</td>\n    </tr>\n    <tr>\n      <th>1996</th>\n      <td>5.149860e+05</td>\n      <td>154556.55000</td>\n      <td>18374.69400</td>\n      <td>269211.210000</td>\n      <td>520321.42000</td>\n      <td>48124.900</td>\n      <td>3.249387e+06</td>\n      <td>4.148052e+05</td>\n      <td>6.411217e+05</td>\n      <td>66759.800</td>\n      <td>64130.68000</td>\n      <td>43223.89000</td>\n      <td>152.400</td>\n    </tr>\n    <tr>\n      <th>1997</th>\n      <td>1.771052e+05</td>\n      <td>17847.75000</td>\n      <td>7013.03000</td>\n      <td>166325.850000</td>\n      <td>117987.81000</td>\n      <td>3163.550</td>\n      <td>2.218295e+06</td>\n      <td>2.132965e+05</td>\n      <td>1.807735e+05</td>\n      <td>63834.820</td>\n      <td>27992.50000</td>\n      <td>20826.09000</td>\n      <td>173.460</td>\n    </tr>\n    <tr>\n      <th>1998</th>\n      <td>3.028510e+05</td>\n      <td>13626.52000</td>\n      <td>13890.35000</td>\n      <td>138022.140000</td>\n      <td>210612.29000</td>\n      <td>10098.360</td>\n      <td>8.360854e+05</td>\n      <td>1.744015e+05</td>\n      <td>2.174748e+05</td>\n      <td>7557.330</td>\n      <td>70407.92000</td>\n      <td>15861.73000</td>\n      <td>213.120</td>\n    </tr>\n    <tr>\n      <th>1999</th>\n      <td>7.078999e+05</td>\n      <td>51843.41000</td>\n      <td>14746.89200</td>\n      <td>337270.000000</td>\n      <td>376550.72910</td>\n      <td>27166.650</td>\n      <td>3.661816e+06</td>\n      <td>4.623083e+05</td>\n      <td>2.112798e+05</td>\n      <td>104211.860</td>\n      <td>96900.74000</td>\n      <td>27964.32000</td>\n      <td>241.130</td>\n    </tr>\n    <tr>\n      <th>2000</th>\n      <td>6.598058e+05</td>\n      <td>143085.45000</td>\n      <td>23974.11000</td>\n      <td>378198.580000</td>\n      <td>456780.77400</td>\n      <td>11626.010</td>\n      <td>4.895256e+06</td>\n      <td>6.536546e+05</td>\n      <td>1.359607e+05</td>\n      <td>19901.631</td>\n      <td>161571.57000</td>\n      <td>92561.48000</td>\n      <td>7121.460</td>\n    </tr>\n    <tr>\n      <th>2001</th>\n      <td>4.701408e+05</td>\n      <td>76039.02000</td>\n      <td>14353.09000</td>\n      <td>295063.094000</td>\n      <td>210882.16100</td>\n      <td>27267.740</td>\n      <td>1.954476e+06</td>\n      <td>3.962537e+05</td>\n      <td>1.195070e+05</td>\n      <td>5924.640</td>\n      <td>89416.21000</td>\n      <td>63641.31000</td>\n      <td>1107.060</td>\n    </tr>\n    <tr>\n      <th>2002</th>\n      <td>1.003302e+06</td>\n      <td>311659.51100</td>\n      <td>33293.96500</td>\n      <td>225704.487000</td>\n      <td>273881.71200</td>\n      <td>21735.147</td>\n      <td>4.000895e+06</td>\n      <td>6.746607e+05</td>\n      <td>1.789774e+05</td>\n      <td>16851.470</td>\n      <td>24150.98300</td>\n      <td>37936.55022</td>\n      <td>208.970</td>\n    </tr>\n    <tr>\n      <th>2003</th>\n      <td>4.404812e+05</td>\n      <td>402416.39500</td>\n      <td>32532.29000</td>\n      <td>227632.043000</td>\n      <td>171709.88400</td>\n      <td>10377.000</td>\n      <td>2.429579e+06</td>\n      <td>4.203652e+05</td>\n      <td>3.178945e+05</td>\n      <td>14660.480</td>\n      <td>5463.38738</td>\n      <td>8996.52000</td>\n      <td>1465.430</td>\n    </tr>\n    <tr>\n      <th>2004</th>\n      <td>2.771787e+05</td>\n      <td>57698.73000</td>\n      <td>28752.52809</td>\n      <td>196057.500980</td>\n      <td>142335.71000</td>\n      <td>3594.800</td>\n      <td>7.180591e+06</td>\n      <td>2.187258e+05</td>\n      <td>1.065006e+05</td>\n      <td>990.910</td>\n      <td>6656.52000</td>\n      <td>13494.90000</td>\n      <td>1630.220</td>\n    </tr>\n    <tr>\n      <th>2005</th>\n      <td>3.525929e+05</td>\n      <td>129945.05700</td>\n      <td>12814.98500</td>\n      <td>310559.658010</td>\n      <td>253325.38699</td>\n      <td>11844.369</td>\n      <td>7.604854e+06</td>\n      <td>5.364050e+05</td>\n      <td>3.877610e+05</td>\n      <td>13193.320</td>\n      <td>18637.54200</td>\n      <td>20272.86800</td>\n      <td>12899.220</td>\n    </tr>\n    <tr>\n      <th>2006</th>\n      <td>5.576762e+05</td>\n      <td>201249.75600</td>\n      <td>51539.84900</td>\n      <td>530691.481000</td>\n      <td>401183.12599</td>\n      <td>4371.325</td>\n      <td>5.556432e+06</td>\n      <td>1.574697e+06</td>\n      <td>1.008450e+06</td>\n      <td>59541.110</td>\n      <td>20529.93060</td>\n      <td>76937.98500</td>\n      <td>197.730</td>\n    </tr>\n    <tr>\n      <th>2007</th>\n      <td>4.370869e+05</td>\n      <td>289151.18651</td>\n      <td>51125.47099</td>\n      <td>231665.206960</td>\n      <td>619006.24400</td>\n      <td>33351.060</td>\n      <td>5.973670e+06</td>\n      <td>1.087971e+06</td>\n      <td>4.576655e+05</td>\n      <td>59816.550</td>\n      <td>10485.76000</td>\n      <td>14055.09498</td>\n      <td>379.020</td>\n    </tr>\n    <tr>\n      <th>2008</th>\n      <td>2.905795e+05</td>\n      <td>156385.55999</td>\n      <td>7461.92999</td>\n      <td>325065.643730</td>\n      <td>334408.28180</td>\n      <td>2037.210</td>\n      <td>2.236002e+06</td>\n      <td>1.340605e+06</td>\n      <td>6.082559e+05</td>\n      <td>61613.490</td>\n      <td>21145.76500</td>\n      <td>22789.72000</td>\n      <td>182.190</td>\n    </tr>\n    <tr>\n      <th>2009</th>\n      <td>4.396843e+05</td>\n      <td>58829.04500</td>\n      <td>24462.28000</td>\n      <td>266316.900427</td>\n      <td>186244.45500</td>\n      <td>8460.420</td>\n      <td>3.938008e+06</td>\n      <td>4.634962e+05</td>\n      <td>5.256345e+05</td>\n      <td>125318.215</td>\n      <td>9309.32000</td>\n      <td>10809.68700</td>\n      <td>592.620</td>\n    </tr>\n    <tr>\n      <th>2010</th>\n      <td>2.026939e+05</td>\n      <td>139809.14950</td>\n      <td>5325.32000</td>\n      <td>217769.769500</td>\n      <td>184541.86889</td>\n      <td>8750.590</td>\n      <td>2.030730e+06</td>\n      <td>4.315628e+05</td>\n      <td>1.987454e+05</td>\n      <td>39762.690</td>\n      <td>18452.01920</td>\n      <td>6538.68900</td>\n      <td>8773.290</td>\n    </tr>\n    <tr>\n      <th>2011</th>\n      <td>3.877723e+05</td>\n      <td>743238.98000</td>\n      <td>10840.65000</td>\n      <td>434531.791000</td>\n      <td>668898.22000</td>\n      <td>8087.020</td>\n      <td>3.764986e+06</td>\n      <td>2.232527e+06</td>\n      <td>7.087190e+05</td>\n      <td>592459.428</td>\n      <td>10698.81000</td>\n      <td>59776.73000</td>\n      <td>1060.870</td>\n    </tr>\n    <tr>\n      <th>2012</th>\n      <td>4.140648e+05</td>\n      <td>159533.32100</td>\n      <td>5796.65500</td>\n      <td>175191.501000</td>\n      <td>414226.93500</td>\n      <td>31584.691</td>\n      <td>6.883807e+06</td>\n      <td>7.028349e+05</td>\n      <td>3.749812e+05</td>\n      <td>176264.250</td>\n      <td>35448.49000</td>\n      <td>64619.75700</td>\n      <td>1535.330</td>\n    </tr>\n    <tr>\n      <th>2013</th>\n      <td>2.911950e+05</td>\n      <td>36226.03000</td>\n      <td>3994.32000</td>\n      <td>115012.630900</td>\n      <td>87268.23770</td>\n      <td>6040.260</td>\n      <td>3.002130e+06</td>\n      <td>7.208222e+05</td>\n      <td>2.133558e+05</td>\n      <td>7544.117</td>\n      <td>3487.25000</td>\n      <td>4623.31000</td>\n      <td>802.960</td>\n    </tr>\n    <tr>\n      <th>2014</th>\n      <td>1.422131e+05</td>\n      <td>42934.18500</td>\n      <td>6883.50500</td>\n      <td>264696.953096</td>\n      <td>147863.96000</td>\n      <td>3420.181</td>\n      <td>2.073453e+06</td>\n      <td>3.464036e+05</td>\n      <td>5.685908e+05</td>\n      <td>38181.291</td>\n      <td>5367.88500</td>\n      <td>8914.50000</td>\n      <td>24567.530</td>\n    </tr>\n    <tr>\n      <th>2015</th>\n      <td>1.897992e+05</td>\n      <td>48302.71300</td>\n      <td>6853.89000</td>\n      <td>232941.995000</td>\n      <td>508890.82300</td>\n      <td>7872.730</td>\n      <td>8.198504e+06</td>\n      <td>4.383020e+05</td>\n      <td>4.513939e+05</td>\n      <td>52003.757</td>\n      <td>3208.99000</td>\n      <td>8307.79000</td>\n      <td>71885.481</td>\n    </tr>\n  </tbody>\n</table>\n</div>",
      "text/plain": "STAT_CAUSE_DESCR         Arson      Campfire     Children  Debris Burning  \\\nFIRE_YEAR                                                                   \n1992              2.673273e+05   26931.74000  50900.50300   154201.142000   \n1993              1.936218e+05   30402.97900  13744.14900   109894.683000   \n1994              4.771476e+05   69247.40000  14479.98400   182475.810000   \n1995              2.900689e+05   68101.02300  16675.84800   191292.641000   \n1996              5.149860e+05  154556.55000  18374.69400   269211.210000   \n1997              1.771052e+05   17847.75000   7013.03000   166325.850000   \n1998              3.028510e+05   13626.52000  13890.35000   138022.140000   \n1999              7.078999e+05   51843.41000  14746.89200   337270.000000   \n2000              6.598058e+05  143085.45000  23974.11000   378198.580000   \n2001              4.701408e+05   76039.02000  14353.09000   295063.094000   \n2002              1.003302e+06  311659.51100  33293.96500   225704.487000   \n2003              4.404812e+05  402416.39500  32532.29000   227632.043000   \n2004              2.771787e+05   57698.73000  28752.52809   196057.500980   \n2005              3.525929e+05  129945.05700  12814.98500   310559.658010   \n2006              5.576762e+05  201249.75600  51539.84900   530691.481000   \n2007              4.370869e+05  289151.18651  51125.47099   231665.206960   \n2008              2.905795e+05  156385.55999   7461.92999   325065.643730   \n2009              4.396843e+05   58829.04500  24462.28000   266316.900427   \n2010              2.026939e+05  139809.14950   5325.32000   217769.769500   \n2011              3.877723e+05  743238.98000  10840.65000   434531.791000   \n2012              4.140648e+05  159533.32100   5796.65500   175191.501000   \n2013              2.911950e+05   36226.03000   3994.32000   115012.630900   \n2014              1.422131e+05   42934.18500   6883.50500   264696.953096   \n2015              1.897992e+05   48302.71300   6853.89000   232941.995000   \n\nSTAT_CAUSE_DESCR  Equipment Use  Fireworks     Lightning  Miscellaneous  \\\nFIRE_YEAR                                                                 \n1992               136179.23900   2619.000  1.007120e+06   3.023052e+05   \n1993               122668.21000   6908.800  1.112361e+06   2.178351e+05   \n1994               137054.61000  16026.700  2.393715e+06   1.863755e+05   \n1995               116224.27900   3678.800  8.313469e+05   1.835899e+05   \n1996               520321.42000  48124.900  3.249387e+06   4.148052e+05   \n1997               117987.81000   3163.550  2.218295e+06   2.132965e+05   \n1998               210612.29000  10098.360  8.360854e+05   1.744015e+05   \n1999               376550.72910  27166.650  3.661816e+06   4.623083e+05   \n2000               456780.77400  11626.010  4.895256e+06   6.536546e+05   \n2001               210882.16100  27267.740  1.954476e+06   3.962537e+05   \n2002               273881.71200  21735.147  4.000895e+06   6.746607e+05   \n2003               171709.88400  10377.000  2.429579e+06   4.203652e+05   \n2004               142335.71000   3594.800  7.180591e+06   2.187258e+05   \n2005               253325.38699  11844.369  7.604854e+06   5.364050e+05   \n2006               401183.12599   4371.325  5.556432e+06   1.574697e+06   \n2007               619006.24400  33351.060  5.973670e+06   1.087971e+06   \n2008               334408.28180   2037.210  2.236002e+06   1.340605e+06   \n2009               186244.45500   8460.420  3.938008e+06   4.634962e+05   \n2010               184541.86889   8750.590  2.030730e+06   4.315628e+05   \n2011               668898.22000   8087.020  3.764986e+06   2.232527e+06   \n2012               414226.93500  31584.691  6.883807e+06   7.028349e+05   \n2013                87268.23770   6040.260  3.002130e+06   7.208222e+05   \n2014               147863.96000   3420.181  2.073453e+06   3.464036e+05   \n2015               508890.82300   7872.730  8.198504e+06   4.383020e+05   \n\nSTAT_CAUSE_DESCR  Missing/Undefined   Powerline      Railroad      Smoking  \\\nFIRE_YEAR                                                                    \n1992                   1.579517e+05    3181.100   38062.04000  52704.85800   \n1993                   2.494437e+05   34542.000   43204.84800  57012.01000   \n1994                   4.874956e+05   17243.400   41323.07000  58814.55300   \n1995                   2.437914e+05   28085.200   23561.54000  51976.18000   \n1996                   6.411217e+05   66759.800   64130.68000  43223.89000   \n1997                   1.807735e+05   63834.820   27992.50000  20826.09000   \n1998                   2.174748e+05    7557.330   70407.92000  15861.73000   \n1999                   2.112798e+05  104211.860   96900.74000  27964.32000   \n2000                   1.359607e+05   19901.631  161571.57000  92561.48000   \n2001                   1.195070e+05    5924.640   89416.21000  63641.31000   \n2002                   1.789774e+05   16851.470   24150.98300  37936.55022   \n2003                   3.178945e+05   14660.480    5463.38738   8996.52000   \n2004                   1.065006e+05     990.910    6656.52000  13494.90000   \n2005                   3.877610e+05   13193.320   18637.54200  20272.86800   \n2006                   1.008450e+06   59541.110   20529.93060  76937.98500   \n2007                   4.576655e+05   59816.550   10485.76000  14055.09498   \n2008                   6.082559e+05   61613.490   21145.76500  22789.72000   \n2009                   5.256345e+05  125318.215    9309.32000  10809.68700   \n2010                   1.987454e+05   39762.690   18452.01920   6538.68900   \n2011                   7.087190e+05  592459.428   10698.81000  59776.73000   \n2012                   3.749812e+05  176264.250   35448.49000  64619.75700   \n2013                   2.133558e+05    7544.117    3487.25000   4623.31000   \n2014                   5.685908e+05   38181.291    5367.88500   8914.50000   \n2015                   4.513939e+05   52003.757    3208.99000   8307.79000   \n\nSTAT_CAUSE_DESCR  Structure  \nFIRE_YEAR                    \n1992                474.100  \n1993                 56.800  \n1994              35276.500  \n1995               1192.500  \n1996                152.400  \n1997                173.460  \n1998                213.120  \n1999                241.130  \n2000               7121.460  \n2001               1107.060  \n2002                208.970  \n2003               1465.430  \n2004               1630.220  \n2005              12899.220  \n2006                197.730  \n2007                379.020  \n2008                182.190  \n2009                592.620  \n2010               8773.290  \n2011               1060.870  \n2012               1535.330  \n2013                802.960  \n2014              24567.530  \n2015              71885.481  "
     },
     "execution_count": 48,
     "metadata": {},
     "output_type": "execute_result"
    }
   ],
   "source": [
    "cause_size_pivot = pd.pivot_table(Viz_df, values='FIRE_SIZE', index=['FIRE_YEAR'],\n",
    "                    columns=['STAT_CAUSE_DESCR'], aggfunc=np.sum, fill_value=0)\n",
    "cause_size_pivot                    "
   ]
  },
  {
   "cell_type": "code",
   "execution_count": 58,
   "metadata": {},
   "outputs": [
    {
     "data": {
      "text/plain": "STAT_CAUSE_DESCR\nArson                9.487274e+06\nCampfire             3.429061e+06\nChildren             4.698303e+05\nDebris Burning       5.975793e+06\nEquipment Use        6.799046e+06\nFireworks            3.182073e+05\nLightning            8.703350e+07\nMiscellaneous        1.439420e+07\nMissing/Undefined    8.751725e+06\nPowerline            1.609443e+06\nRailroad             8.496138e+05\nSmoking              8.426605e+05\nStructure            1.721894e+05\ndtype: float64"
     },
     "execution_count": 58,
     "metadata": {},
     "output_type": "execute_result"
    }
   ],
   "source": [
    "cause_size_pivot.sum()"
   ]
  },
  {
   "cell_type": "code",
   "execution_count": 56,
   "metadata": {},
   "outputs": [],
   "source": [
    "streamgraph_data = []\n",
    "for each in cause_size_pivot.iteritems():\n",
    "    each_cause = {\n",
    "        \"name\": each[0],\n",
    "        \"data\": [v for k,v in cause_size_pivot[each[0]].items()]\n",
    "    }\n",
    "    streamgraph_data.append(each_cause)\n"
   ]
  },
  {
   "cell_type": "code",
   "execution_count": 57,
   "metadata": {},
   "outputs": [
    {
     "data": {
      "text/plain": "[{'name': 'Arson',\n  'data': [267327.29000000743,\n   193621.7730000055,\n   477147.63699998736,\n   290068.8800000042,\n   514985.9799999912,\n   177105.17000000508,\n   302850.9800100079,\n   707899.8609999632,\n   659805.8109999703,\n   470140.7999999718,\n   1003302.1926799705,\n   440481.2141899857,\n   277178.73098999605,\n   352592.8540099907,\n   557676.1949599689,\n   437086.8611799823,\n   290579.52074999426,\n   439684.2774999785,\n   202693.8560000052,\n   387772.28999998735,\n   414064.7679999777,\n   291194.95900000294,\n   142213.08870000494,\n   189799.17000000706]},\n {'name': 'Campfire',\n  'data': [26931.739999999416,\n   30402.97899999859,\n   69247.39999999979,\n   68101.02299999856,\n   154556.5500000053,\n   17847.75000000003,\n   13626.520000000119,\n   51843.40999999991,\n   143085.4500000011,\n   76039.0199999997,\n   311659.5110000022,\n   402416.39499998785,\n   57698.729999999254,\n   129945.05700000239,\n   201249.75600000596,\n   289151.18651000375,\n   156385.5599900088,\n   58829.04499999813,\n   139809.14950000047,\n   743238.9799999874,\n   159533.32100000838,\n   36226.02999999861,\n   42934.18499999918,\n   48302.71299999957]},\n {'name': 'Children',\n  'data': [50900.502999998826,\n   13744.149000000236,\n   14479.984000000259,\n   16675.848000000286,\n   18374.69400000012,\n   7013.030000000123,\n   13890.350000000284,\n   14746.892000000325,\n   23974.109999999662,\n   14353.09000000033,\n   33293.96499999949,\n   32532.2899999991,\n   28752.528089999465,\n   12814.985000000206,\n   51539.84899999966,\n   51125.47098999889,\n   7461.92999000006,\n   24462.279999999482,\n   5325.320000000034,\n   10840.650000000098,\n   5796.655000000074,\n   3994.3199999999633,\n   6883.5050000000765,\n   6853.890000000077]},\n {'name': 'Debris Burning',\n  'data': [154201.14200000744,\n   109894.68300000326,\n   182475.81000000957,\n   191292.64100000952,\n   269211.2100000083,\n   166325.85000000798,\n   138022.1400000085,\n   337269.99999998446,\n   378198.5799999784,\n   295063.09400000924,\n   225704.48700000922,\n   227632.0430000094,\n   196057.5009800086,\n   310559.65800999827,\n   530691.4809999815,\n   231665.2069600097,\n   325065.64372998674,\n   266316.90042700816,\n   217769.7695000071,\n   434531.79099999083,\n   175191.50100000936,\n   115012.63089999979,\n   264696.95309601346,\n   232941.9950000125]},\n {'name': 'Equipment Use',\n  'data': [136179.23900000576,\n   122668.21000000421,\n   137054.61000000546,\n   116224.27900000391,\n   520321.41999998194,\n   117987.81000000372,\n   210612.29000000842,\n   376550.7290999727,\n   456780.7739999812,\n   210882.16100000762,\n   273881.712000005,\n   171709.88400000913,\n   142335.71000000287,\n   253325.38699000698,\n   401183.1259899955,\n   619006.2439999742,\n   334408.2817999942,\n   186244.45500000348,\n   184541.8688900029,\n   668898.219999995,\n   414226.9349999793,\n   87268.23770000195,\n   147863.9600000047,\n   508890.8229999883]},\n {'name': 'Fireworks',\n  'data': [2618.999999999997,\n   6908.800000000015,\n   16026.700000000004,\n   3678.7999999999993,\n   48124.89999999994,\n   3163.549999999998,\n   10098.360000000008,\n   27166.649999999983,\n   11626.010000000035,\n   27267.73999999997,\n   21735.146999999786,\n   10377.00000000004,\n   3594.7999999999975,\n   11844.369000000006,\n   4371.32500000001,\n   33351.0599999997,\n   2037.2099999999984,\n   8460.420000000016,\n   8750.59000000009,\n   8087.020000000001,\n   31584.690999999504,\n   6040.259999999995,\n   3420.1809999999978,\n   7872.73]},\n {'name': 'Lightning',\n  'data': [1007120.0899998662,\n   1112360.9300000295,\n   2393714.7700002114,\n   831346.9299999787,\n   3249387.3100001407,\n   2218295.280000119,\n   836085.3899999753,\n   3661816.040000111,\n   4895256.451999845,\n   1954476.4100001354,\n   4000895.3248592056,\n   2429578.645190223,\n   7180591.23017886,\n   7604853.915019143,\n   5556431.731009671,\n   5973669.811039369,\n   2236002.2400001762,\n   3938008.2116201483,\n   2030729.7285000947,\n   3764986.2400000975,\n   6883806.685999363,\n   3002130.350000161,\n   2073452.8912500767,\n   8198504.409999249]},\n {'name': 'Miscellaneous',\n  'data': [302305.2190000073,\n   217835.10100000718,\n   186375.51000000772,\n   183589.87700000653,\n   414805.22499997827,\n   213296.5400000108,\n   174401.45000000784,\n   462308.2699999562,\n   653654.6389998429,\n   396253.72599994513,\n   674660.6749999117,\n   420365.1789999423,\n   218725.8239000161,\n   536404.9879999006,\n   1574697.398990222,\n   1087970.944500248,\n   1340604.6904103204,\n   463496.22000994935,\n   431562.8030999794,\n   2232527.2759999433,\n   702834.8579998934,\n   720822.2003098718,\n   346403.6126659434,\n   438301.97509993747]},\n {'name': 'Missing/Undefined',\n  'data': [157951.67999999993,\n   249443.7200000016,\n   487495.584999992,\n   243791.36000000234,\n   641121.6500000025,\n   180773.46000000107,\n   217474.81999999972,\n   211279.81319000074,\n   135960.6769999993,\n   119507.04300000083,\n   178977.41000000262,\n   317894.4779999889,\n   106500.5700000015,\n   387760.964989989,\n   1008450.293999964,\n   457665.51799000154,\n   608255.8650099919,\n   525634.4551569895,\n   198745.4420000061,\n   708718.9824999623,\n   374981.21000000014,\n   213355.7900000074,\n   568590.8099999554,\n   451393.8937000167]},\n {'name': 'Powerline',\n  'data': [3181.099999999997,\n   34541.999999999935,\n   17243.39999999997,\n   28085.199999999935,\n   66759.79999999993,\n   63834.819999999956,\n   7557.330000000019,\n   104211.8600000003,\n   19901.63099999984,\n   5924.640000000026,\n   16851.469999999914,\n   14660.480000000025,\n   990.9100000000016,\n   13193.32000000004,\n   59541.109999999906,\n   59816.54999999983,\n   61613.48999999993,\n   125318.21500000019,\n   39762.68999999986,\n   592459.4279999987,\n   176264.2500000005,\n   7544.117000000046,\n   38181.290999999655,\n   52003.75699999964]},\n {'name': 'Railroad',\n  'data': [38062.03999999978,\n   43204.84799999968,\n   41323.06999999965,\n   23561.539999999724,\n   64130.679999999265,\n   27992.49999999976,\n   70407.91999999982,\n   96900.74000000193,\n   161571.57000000318,\n   89416.21000000117,\n   24150.982999999906,\n   5463.387380000014,\n   6656.520000000024,\n   18637.542000000034,\n   20529.930599999938,\n   10485.760000000022,\n   21145.76499999995,\n   9309.319999999998,\n   18452.01920000001,\n   10698.810000000025,\n   35448.489999999845,\n   3487.2499999999914,\n   5367.884999999992,\n   3208.9899999999957]},\n {'name': 'Smoking',\n  'data': [52704.85799999924,\n   57012.00999999902,\n   58814.55299999916,\n   51976.17999999923,\n   43223.88999999941,\n   20826.08999999976,\n   15861.73000000021,\n   27964.31999999944,\n   92561.48000000228,\n   63641.30999999865,\n   37936.55021999895,\n   8996.520000000126,\n   13494.900000000172,\n   20272.867999999613,\n   76937.98500000144,\n   14055.094980000122,\n   22789.719999999514,\n   10809.687000000014,\n   6538.688999999997,\n   59776.730000000054,\n   64619.756999999445,\n   4623.309999999975,\n   8914.500000000171,\n   8307.790000000192]},\n {'name': 'Structure',\n  'data': [474.10000000000036,\n   56.80000000000004,\n   35276.49999999996,\n   1192.4999999999989,\n   152.39999999999986,\n   173.4599999999999,\n   213.1199999999999,\n   241.12999999999994,\n   7121.460000000003,\n   1107.0599999999997,\n   208.96999999999957,\n   1465.4299999999996,\n   1630.2199999999982,\n   12899.220000000012,\n   197.72999999999973,\n   379.0200000000002,\n   182.18999999999983,\n   592.6200000000005,\n   8773.290000000015,\n   1060.8700000000008,\n   1535.3299999999947,\n   802.9600000000007,\n   24567.529999999944,\n   71885.48100000029]}]"
     },
     "execution_count": 57,
     "metadata": {},
     "output_type": "execute_result"
    }
   ],
   "source": [
    "streamgraph_data"
   ]
  },
  {
   "cell_type": "code",
   "execution_count": 28,
   "metadata": {},
   "outputs": [
    {
     "data": {
      "text/plain": "[1007120.0899998662,\n 1112360.9300000295,\n 2393714.7700002114,\n 831346.9299999787,\n 3249387.3100001407,\n 2218295.280000119,\n 836085.3899999753,\n 3661816.040000111,\n 4895256.451999845,\n 1954476.4100001354,\n 4000895.3248592056,\n 2429578.645190223,\n 7180591.23017886,\n 7604853.915019143,\n 5556431.731009671,\n 5973669.811039369,\n 2236002.2400001762,\n 3938008.2116201483,\n 2030729.7285000947,\n 3764986.2400000975,\n 6883806.685999363,\n 3002130.350000161,\n 2073452.8912500767,\n 8198504.409999249]"
     },
     "execution_count": 28,
     "metadata": {},
     "output_type": "execute_result"
    }
   ],
   "source": [
    "[v for k,v in cause_size_pivot.Lightning.items()]"
   ]
  },
  {
   "cell_type": "code",
   "execution_count": 18,
   "metadata": {},
   "outputs": [
    {
     "data": {
      "text/plain": "['Arson',\n 'Campfire',\n 'Children',\n 'Debris Burning',\n 'Equipment Use',\n 'Fireworks',\n 'Miscellaneous',\n 'Missing/Undefined',\n 'Powerline',\n 'Railroad',\n 'Smoking',\n 'Structure']"
     },
     "execution_count": 18,
     "metadata": {},
     "output_type": "execute_result"
    }
   ],
   "source": [
    "[col for col in cause_size_pivot.columns if col != 'Lightning']"
   ]
  },
  {
   "cell_type": "code",
   "execution_count": 61,
   "metadata": {},
   "outputs": [
    {
     "data": {
      "text/plain": "[['Arson', 9487274.159969768],\n ['Campfire', 3429061.461000004],\n ['Children', 469830.28806999704],\n ['Debris Burning', 5975792.711603071],\n ['Equipment Use', 6799046.366469939],\n ['Fireworks', 318207.3129999991],\n ['Miscellaneous', 14394204.201985849],\n ['Missing/Undefined', 8751725.491536878],\n ['Powerline', 1609442.8589999983],\n ['Railroad', 849613.7701800035],\n ['Smoking', 842660.5221999962],\n ['Structure', 172189.39100000024]]"
     },
     "execution_count": 61,
     "metadata": {},
     "output_type": "execute_result"
    }
   ],
   "source": [
    "[[ k, v ] for k,v in cause_size_pivot[[col for col in cause_size_pivot.columns if col != 'Lightning']].agg(sum).items()]"
   ]
  },
  {
   "cell_type": "code",
   "execution_count": 26,
   "metadata": {},
   "outputs": [
    {
     "data": {
      "text/plain": "[['Debris Burning', 429028],\n ['Miscellaneous', 323805],\n ['Arson', 281455],\n ['Missing/Undefined', 166723],\n ['Equipment Use', 147612],\n ['Campfire', 76139],\n ['Children', 61167],\n ['Smoking', 52869],\n ['Railroad', 33455],\n ['Powerline', 14448],\n ['Fireworks', 11500],\n ['Structure', 3796]]"
     },
     "execution_count": 26,
     "metadata": {},
     "output_type": "execute_result"
    }
   ],
   "source": [
    "manmade_list = [[ k, v ] for k,v in Viz_df.STAT_CAUSE_DESCR.value_counts().items() if k != 'Lightning']\n",
    "manmade_list"
   ]
  },
  {
   "cell_type": "code",
   "execution_count": 27,
   "metadata": {},
   "outputs": [
    {
     "data": {
      "text/plain": "[['Lightning', 278468]]"
     },
     "execution_count": 27,
     "metadata": {},
     "output_type": "execute_result"
    }
   ],
   "source": [
    "lightning_list = [[ k, v ] for k,v in Viz_df.STAT_CAUSE_DESCR.value_counts().items() if k == 'Lightning']\n",
    "lightning_list"
   ]
  },
  {
   "cell_type": "markdown",
   "metadata": {},
   "source": [
    "# Connect to MongoDB and push data to Database"
   ]
  },
  {
   "cell_type": "code",
   "execution_count": 24,
   "metadata": {},
   "outputs": [],
   "source": [
    "## Setup Mongo DB\n",
    "client = pymongo.MongoClient()"
   ]
  },
  {
   "cell_type": "code",
   "execution_count": 25,
   "metadata": {},
   "outputs": [],
   "source": [
    "## Build DataBase\n",
    "db = client.Project_2_db\n",
    "fires = db.fires"
   ]
  },
  {
   "cell_type": "code",
   "execution_count": 77,
   "metadata": {},
   "outputs": [
    {
     "data": {
      "text/plain": "<pymongo.results.InsertManyResult at 0x2327cc84688>"
     },
     "execution_count": 77,
     "metadata": {},
     "output_type": "execute_result"
    }
   ],
   "source": [
    "fires.insert_many(Viz_df.to_dict('records'))"
   ]
  },
  {
   "cell_type": "code",
   "execution_count": 26,
   "metadata": {},
   "outputs": [
    {
     "data": {
      "text/plain": "'year'"
     },
     "execution_count": 26,
     "metadata": {},
     "output_type": "execute_result"
    }
   ],
   "source": [
    "fires.create_index([(\"FIRE_YEAR\", pymongo.ASCENDING)],name='year',unique=False)"
   ]
  },
  {
   "cell_type": "code",
   "execution_count": 27,
   "metadata": {},
   "outputs": [
    {
     "data": {
      "text/plain": "'cause'"
     },
     "execution_count": 27,
     "metadata": {},
     "output_type": "execute_result"
    }
   ],
   "source": [
    "fires.create_index([(\"STAT_CAUSE_DESCR\", pymongo.ASCENDING)],name='cause',unique=False)"
   ]
  },
  {
   "cell_type": "code",
   "execution_count": 28,
   "metadata": {},
   "outputs": [
    {
     "data": {
      "text/plain": "'state'"
     },
     "execution_count": 28,
     "metadata": {},
     "output_type": "execute_result"
    }
   ],
   "source": [
    "fires.create_index([(\"STATE\", pymongo.ASCENDING)],name='state',unique=False)"
   ]
  },
  {
   "cell_type": "code",
   "execution_count": 29,
   "metadata": {},
   "outputs": [
    {
     "data": {
      "text/plain": "'disc_date'"
     },
     "execution_count": 29,
     "metadata": {},
     "output_type": "execute_result"
    }
   ],
   "source": [
    "fires.create_index([(\"DISCOVERY_DATE\", pymongo.ASCENDING)],name='disc_date',unique=False)"
   ]
  },
  {
   "cell_type": "code",
   "execution_count": 30,
   "metadata": {},
   "outputs": [
    {
     "data": {
      "text/plain": "'cont_date'"
     },
     "execution_count": 30,
     "metadata": {},
     "output_type": "execute_result"
    }
   ],
   "source": [
    "fires.create_index([(\"CONT_DATE\", pymongo.ASCENDING)],name='cont_date',unique=False)"
   ]
  },
  {
   "cell_type": "code",
   "execution_count": null,
   "metadata": {},
   "outputs": [],
   "source": []
  }
 ]
}