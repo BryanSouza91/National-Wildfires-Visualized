{
 "nbformat": 4,
 "nbformat_minor": 2,
 "metadata": {
  "language_info": {
   "name": "python",
   "codemirror_mode": {
    "name": "ipython",
    "version": 3
   },
   "version": "3.7.5-final"
  },
  "orig_nbformat": 2,
  "file_extension": ".py",
  "mimetype": "text/x-python",
  "name": "python",
  "npconvert_exporter": "python",
  "pygments_lexer": "ipython3",
  "version": 3,
  "kernelspec": {
   "name": "python37564bitdataanalyticsconda91688bd36d7c414b924baeafbaaa4569",
   "display_name": "Python 3.7.5 64-bit ('DataAnalytics': conda)"
  }
 },
 "cells": [
  {
   "cell_type": "markdown",
   "execution_count": null,
   "metadata": {},
   "outputs": [],
   "source": [
    "# Preparing the Dataset"
   ]
  },
  {
   "cell_type": "code",
   "execution_count": 1,
   "metadata": {},
   "outputs": [],
   "source": [
    "import numpy as np\n",
    "import pandas as pd\n",
    "import os\n",
    "import pymongo\n",
    "from dtime import is_leap_year, ymd\n",
    "import datetime"
   ]
  },
  {
   "cell_type": "code",
   "execution_count": 2,
   "metadata": {},
   "outputs": [],
   "source": [
    "npy_file = os.path.join(\"data\",\"Fire_Data.npy\")"
   ]
  },
  {
   "cell_type": "code",
   "execution_count": 3,
   "metadata": {},
   "outputs": [],
   "source": [
    "pickle = np.load(npy_file, allow_pickle=True)"
   ]
  },
  {
   "cell_type": "code",
   "execution_count": 4,
   "metadata": {},
   "outputs": [],
   "source": [
    "fires_df = pd.DataFrame(pickle, columns=['FPA_ID','FIRE_NAME','FIRE_YEAR','DISCOVERY_DOY','DISCOVERY_TIME','CONT_DOY','CONT_TIME','FIRE_SIZE','FIRE_SIZE_CLASS','LATITUDE','LONGITUDE','STATE','COUNTY','FIPS_CODE','FIPS_NAME','STAT_CAUSE_DESCR','OWNER_CODE','OWNER_DESCR','DAYS_TO_CONT'])"
   ]
  },
  {
   "cell_type": "code",
   "execution_count": 5,
   "metadata": {},
   "outputs": [
    {
     "data": {
      "text/html": "<div>\n<style scoped>\n    .dataframe tbody tr th:only-of-type {\n        vertical-align: middle;\n    }\n\n    .dataframe tbody tr th {\n        vertical-align: top;\n    }\n\n    .dataframe thead th {\n        text-align: right;\n    }\n</style>\n<table border=\"1\" class=\"dataframe\">\n  <thead>\n    <tr style=\"text-align: right;\">\n      <th></th>\n      <th>FPA_ID</th>\n      <th>FIRE_NAME</th>\n      <th>FIRE_YEAR</th>\n      <th>DISCOVERY_DOY</th>\n      <th>DISCOVERY_TIME</th>\n      <th>CONT_DOY</th>\n      <th>CONT_TIME</th>\n      <th>FIRE_SIZE</th>\n      <th>FIRE_SIZE_CLASS</th>\n      <th>LATITUDE</th>\n      <th>LONGITUDE</th>\n      <th>STATE</th>\n      <th>COUNTY</th>\n      <th>FIPS_CODE</th>\n      <th>FIPS_NAME</th>\n      <th>STAT_CAUSE_DESCR</th>\n      <th>OWNER_CODE</th>\n      <th>OWNER_DESCR</th>\n      <th>DAYS_TO_CONT</th>\n    </tr>\n  </thead>\n  <tbody>\n    <tr>\n      <th>0</th>\n      <td>FS-1418826</td>\n      <td>FOUNTAIN</td>\n      <td>2005</td>\n      <td>33</td>\n      <td>1300</td>\n      <td>33</td>\n      <td>1730</td>\n      <td>0.1</td>\n      <td>A</td>\n      <td>40.0369</td>\n      <td>-121.006</td>\n      <td>CA</td>\n      <td>63</td>\n      <td>063</td>\n      <td>Plumas</td>\n      <td>Miscellaneous</td>\n      <td>5</td>\n      <td>USFS</td>\n      <td>0</td>\n    </tr>\n    <tr>\n      <th>1</th>\n      <td>FS-1418827</td>\n      <td>PIGEON</td>\n      <td>2004</td>\n      <td>133</td>\n      <td>0845</td>\n      <td>133</td>\n      <td>1530</td>\n      <td>0.25</td>\n      <td>A</td>\n      <td>38.9331</td>\n      <td>-120.404</td>\n      <td>CA</td>\n      <td>61</td>\n      <td>061</td>\n      <td>Placer</td>\n      <td>Lightning</td>\n      <td>5</td>\n      <td>USFS</td>\n      <td>0</td>\n    </tr>\n    <tr>\n      <th>2</th>\n      <td>FS-1418835</td>\n      <td>SLACK</td>\n      <td>2004</td>\n      <td>152</td>\n      <td>1921</td>\n      <td>152</td>\n      <td>2024</td>\n      <td>0.1</td>\n      <td>A</td>\n      <td>38.9842</td>\n      <td>-120.736</td>\n      <td>CA</td>\n      <td>17</td>\n      <td>017</td>\n      <td>El Dorado</td>\n      <td>Debris Burning</td>\n      <td>13</td>\n      <td>STATE OR PRIVATE</td>\n      <td>0</td>\n    </tr>\n    <tr>\n      <th>3</th>\n      <td>FS-1418845</td>\n      <td>DEER</td>\n      <td>2004</td>\n      <td>180</td>\n      <td>1600</td>\n      <td>185</td>\n      <td>1400</td>\n      <td>0.1</td>\n      <td>A</td>\n      <td>38.5592</td>\n      <td>-119.913</td>\n      <td>CA</td>\n      <td>3</td>\n      <td>003</td>\n      <td>Alpine</td>\n      <td>Lightning</td>\n      <td>5</td>\n      <td>USFS</td>\n      <td>5</td>\n    </tr>\n    <tr>\n      <th>4</th>\n      <td>FS-1418847</td>\n      <td>STEVENOT</td>\n      <td>2004</td>\n      <td>180</td>\n      <td>1600</td>\n      <td>185</td>\n      <td>1200</td>\n      <td>0.1</td>\n      <td>A</td>\n      <td>38.5592</td>\n      <td>-119.933</td>\n      <td>CA</td>\n      <td>3</td>\n      <td>003</td>\n      <td>Alpine</td>\n      <td>Lightning</td>\n      <td>5</td>\n      <td>USFS</td>\n      <td>5</td>\n    </tr>\n  </tbody>\n</table>\n</div>",
      "text/plain": "       FPA_ID FIRE_NAME FIRE_YEAR DISCOVERY_DOY DISCOVERY_TIME CONT_DOY  \\\n0  FS-1418826  FOUNTAIN      2005            33           1300       33   \n1  FS-1418827    PIGEON      2004           133           0845      133   \n2  FS-1418835     SLACK      2004           152           1921      152   \n3  FS-1418845      DEER      2004           180           1600      185   \n4  FS-1418847  STEVENOT      2004           180           1600      185   \n\n  CONT_TIME FIRE_SIZE FIRE_SIZE_CLASS LATITUDE LONGITUDE STATE COUNTY  \\\n0      1730       0.1               A  40.0369  -121.006    CA     63   \n1      1530      0.25               A  38.9331  -120.404    CA     61   \n2      2024       0.1               A  38.9842  -120.736    CA     17   \n3      1400       0.1               A  38.5592  -119.913    CA      3   \n4      1200       0.1               A  38.5592  -119.933    CA      3   \n\n  FIPS_CODE  FIPS_NAME STAT_CAUSE_DESCR OWNER_CODE       OWNER_DESCR  \\\n0       063     Plumas    Miscellaneous          5              USFS   \n1       061     Placer        Lightning          5              USFS   \n2       017  El Dorado   Debris Burning         13  STATE OR PRIVATE   \n3       003     Alpine        Lightning          5              USFS   \n4       003     Alpine        Lightning          5              USFS   \n\n  DAYS_TO_CONT  \n0            0  \n1            0  \n2            0  \n3            5  \n4            5  "
     },
     "execution_count": 5,
     "metadata": {},
     "output_type": "execute_result"
    }
   ],
   "source": [
    "fires_df.head()"
   ]
  },
  {
   "cell_type": "code",
   "execution_count": 6,
   "metadata": {},
   "outputs": [],
   "source": [
    "fires_df[\"DAYS_TO_CONT\"] = fires_df[\"DAYS_TO_CONT\"].transform(lambda x: x if x > -1 else x + 365)"
   ]
  },
  {
   "cell_type": "code",
   "execution_count": 7,
   "metadata": {},
   "outputs": [],
   "source": [
    "fires_df['DISCOVERY_TIME'] = fires_df['DISCOVERY_TIME'].apply(lambda x: x.replace(\"None\",'0') if x == \"None\" else x)"
   ]
  },
  {
   "cell_type": "code",
   "execution_count": 8,
   "metadata": {},
   "outputs": [],
   "source": [
    "fires_df['DISCOVERY_TIME'] = fires_df['DISCOVERY_TIME'].astype('str')"
   ]
  },
  {
   "cell_type": "code",
   "execution_count": 9,
   "metadata": {},
   "outputs": [],
   "source": [
    "fires_df['CONT_TIME'] = fires_df['CONT_TIME'].apply(lambda x: x.replace(\"None\",'0') if x == \"None\" else x)"
   ]
  },
  {
   "cell_type": "code",
   "execution_count": 10,
   "metadata": {},
   "outputs": [],
   "source": [
    "fires_df['CONT_TIME'] = fires_df['CONT_TIME'].apply(lambda x: x.replace(\"\",'0') if x == \"\" else x)"
   ]
  },
  {
   "cell_type": "code",
   "execution_count": 11,
   "metadata": {},
   "outputs": [],
   "source": [
    "fires_df['CONT_TIME'] = fires_df['CONT_TIME'].astype('str')"
   ]
  },
  {
   "cell_type": "code",
   "execution_count": 12,
   "metadata": {},
   "outputs": [],
   "source": [
    "fires_df['DISCOVERY_HOUR'] = fires_df['DISCOVERY_TIME'].apply(lambda x: x[:2])"
   ]
  },
  {
   "cell_type": "code",
   "execution_count": 14,
   "metadata": {},
   "outputs": [],
   "source": [
    "fires_df['DISCOVERY_MINUTE'] = fires_df['DISCOVERY_TIME'].apply(lambda x: x[2:])"
   ]
  },
  {
   "cell_type": "code",
   "execution_count": 16,
   "metadata": {},
   "outputs": [],
   "source": [
    "fires_df['CONT_HOUR'] = fires_df['CONT_TIME'].apply(lambda x: x[:2])"
   ]
  },
  {
   "cell_type": "code",
   "execution_count": 15,
   "metadata": {},
   "outputs": [],
   "source": [
    "fires_df['CONT_MINUTE'] = fires_df['CONT_TIME'].apply(lambda x: x[2:])"
   ]
  },
  {
   "cell_type": "code",
   "execution_count": 17,
   "metadata": {},
   "outputs": [],
   "source": [
    "# fires_df['DISCOVERY_DATE_PD'] = pd.to_datetime(fires_df['FIRE_YEAR'] * 1000 + fires_df['DISCOVERY_DOY'], format='%Y%j') \n"
   ]
  },
  {
   "cell_type": "code",
   "execution_count": 13,
   "metadata": {},
   "outputs": [],
   "source": [
    "# fires_df['DISCOVERY_DATE_PD'] = pd.to_datetime(fires_df['FIRE_YEAR'] * 31,556,952 + fires_df['DISCOVERY_DOY'], units='s', format='%Y%j%X') \n"
   ]
  },
  {
   "cell_type": "code",
   "execution_count": 18,
   "metadata": {},
   "outputs": [
    {
     "data": {
      "text/html": "<div>\n<style scoped>\n    .dataframe tbody tr th:only-of-type {\n        vertical-align: middle;\n    }\n\n    .dataframe tbody tr th {\n        vertical-align: top;\n    }\n\n    .dataframe thead th {\n        text-align: right;\n    }\n</style>\n<table border=\"1\" class=\"dataframe\">\n  <thead>\n    <tr style=\"text-align: right;\">\n      <th></th>\n      <th>FPA_ID</th>\n      <th>FIRE_NAME</th>\n      <th>FIRE_YEAR</th>\n      <th>DISCOVERY_DOY</th>\n      <th>DISCOVERY_TIME</th>\n      <th>CONT_DOY</th>\n      <th>CONT_TIME</th>\n      <th>FIRE_SIZE</th>\n      <th>FIRE_SIZE_CLASS</th>\n      <th>LATITUDE</th>\n      <th>...</th>\n      <th>FIPS_CODE</th>\n      <th>FIPS_NAME</th>\n      <th>STAT_CAUSE_DESCR</th>\n      <th>OWNER_CODE</th>\n      <th>OWNER_DESCR</th>\n      <th>DAYS_TO_CONT</th>\n      <th>DISCOVERY_HOUR</th>\n      <th>DISCOVERY_MINUTE</th>\n      <th>CONT_MINUTE</th>\n      <th>CONT_HOUR</th>\n    </tr>\n  </thead>\n  <tbody>\n    <tr>\n      <th>0</th>\n      <td>FS-1418826</td>\n      <td>FOUNTAIN</td>\n      <td>2005</td>\n      <td>33</td>\n      <td>1300</td>\n      <td>33</td>\n      <td>1730</td>\n      <td>0.1</td>\n      <td>A</td>\n      <td>40.0369</td>\n      <td>...</td>\n      <td>063</td>\n      <td>Plumas</td>\n      <td>Miscellaneous</td>\n      <td>5</td>\n      <td>USFS</td>\n      <td>0.0</td>\n      <td>13</td>\n      <td>00</td>\n      <td>30</td>\n      <td>17</td>\n    </tr>\n    <tr>\n      <th>1</th>\n      <td>FS-1418827</td>\n      <td>PIGEON</td>\n      <td>2004</td>\n      <td>133</td>\n      <td>0845</td>\n      <td>133</td>\n      <td>1530</td>\n      <td>0.25</td>\n      <td>A</td>\n      <td>38.9331</td>\n      <td>...</td>\n      <td>061</td>\n      <td>Placer</td>\n      <td>Lightning</td>\n      <td>5</td>\n      <td>USFS</td>\n      <td>0.0</td>\n      <td>08</td>\n      <td>45</td>\n      <td>30</td>\n      <td>15</td>\n    </tr>\n    <tr>\n      <th>2</th>\n      <td>FS-1418835</td>\n      <td>SLACK</td>\n      <td>2004</td>\n      <td>152</td>\n      <td>1921</td>\n      <td>152</td>\n      <td>2024</td>\n      <td>0.1</td>\n      <td>A</td>\n      <td>38.9842</td>\n      <td>...</td>\n      <td>017</td>\n      <td>El Dorado</td>\n      <td>Debris Burning</td>\n      <td>13</td>\n      <td>STATE OR PRIVATE</td>\n      <td>0.0</td>\n      <td>19</td>\n      <td>21</td>\n      <td>24</td>\n      <td>20</td>\n    </tr>\n    <tr>\n      <th>3</th>\n      <td>FS-1418845</td>\n      <td>DEER</td>\n      <td>2004</td>\n      <td>180</td>\n      <td>1600</td>\n      <td>185</td>\n      <td>1400</td>\n      <td>0.1</td>\n      <td>A</td>\n      <td>38.5592</td>\n      <td>...</td>\n      <td>003</td>\n      <td>Alpine</td>\n      <td>Lightning</td>\n      <td>5</td>\n      <td>USFS</td>\n      <td>5.0</td>\n      <td>16</td>\n      <td>00</td>\n      <td>00</td>\n      <td>14</td>\n    </tr>\n    <tr>\n      <th>4</th>\n      <td>FS-1418847</td>\n      <td>STEVENOT</td>\n      <td>2004</td>\n      <td>180</td>\n      <td>1600</td>\n      <td>185</td>\n      <td>1200</td>\n      <td>0.1</td>\n      <td>A</td>\n      <td>38.5592</td>\n      <td>...</td>\n      <td>003</td>\n      <td>Alpine</td>\n      <td>Lightning</td>\n      <td>5</td>\n      <td>USFS</td>\n      <td>5.0</td>\n      <td>16</td>\n      <td>00</td>\n      <td>00</td>\n      <td>12</td>\n    </tr>\n  </tbody>\n</table>\n<p>5 rows × 23 columns</p>\n</div>",
      "text/plain": "       FPA_ID FIRE_NAME FIRE_YEAR DISCOVERY_DOY DISCOVERY_TIME CONT_DOY  \\\n0  FS-1418826  FOUNTAIN      2005            33           1300       33   \n1  FS-1418827    PIGEON      2004           133           0845      133   \n2  FS-1418835     SLACK      2004           152           1921      152   \n3  FS-1418845      DEER      2004           180           1600      185   \n4  FS-1418847  STEVENOT      2004           180           1600      185   \n\n  CONT_TIME FIRE_SIZE FIRE_SIZE_CLASS LATITUDE  ... FIPS_CODE  FIPS_NAME  \\\n0      1730       0.1               A  40.0369  ...       063     Plumas   \n1      1530      0.25               A  38.9331  ...       061     Placer   \n2      2024       0.1               A  38.9842  ...       017  El Dorado   \n3      1400       0.1               A  38.5592  ...       003     Alpine   \n4      1200       0.1               A  38.5592  ...       003     Alpine   \n\n  STAT_CAUSE_DESCR OWNER_CODE       OWNER_DESCR DAYS_TO_CONT DISCOVERY_HOUR  \\\n0    Miscellaneous          5              USFS          0.0             13   \n1        Lightning          5              USFS          0.0             08   \n2   Debris Burning         13  STATE OR PRIVATE          0.0             19   \n3        Lightning          5              USFS          5.0             16   \n4        Lightning          5              USFS          5.0             16   \n\n  DISCOVERY_MINUTE  CONT_MINUTE CONT_HOUR  \n0               00           30        17  \n1               45           30        15  \n2               21           24        20  \n3               00           00        14  \n4               00           00        12  \n\n[5 rows x 23 columns]"
     },
     "execution_count": 18,
     "metadata": {},
     "output_type": "execute_result"
    }
   ],
   "source": [
    "fires_df.head()"
   ]
  },
  {
   "cell_type": "code",
   "execution_count": 19,
   "metadata": {},
   "outputs": [],
   "source": [
    "# fires_df['DISCOVERY_TIME_NS'] = pd.to_datetime(fires_df['DISCOVERY_HOUR'].replace('',0).astype('int') * 3.6e12 + fires_df['DISCOVERY_MINUTE'].replace('',0).astype('int') * 6.0e10, format='ns')"
   ]
  },
  {
   "cell_type": "code",
   "execution_count": 20,
   "metadata": {},
   "outputs": [
    {
     "name": "stdout",
     "output_type": "stream",
     "text": "1 FPA_ID\n2 FIRE_NAME\n3 FIRE_YEAR\n4 DISCOVERY_DOY\n5 DISCOVERY_TIME\n6 CONT_DOY\n7 CONT_TIME\n8 FIRE_SIZE\n9 FIRE_SIZE_CLASS\n10 LATITUDE\n11 LONGITUDE\n12 STATE\n13 COUNTY\n14 FIPS_CODE\n15 FIPS_NAME\n16 STAT_CAUSE_DESCR\n17 OWNER_CODE\n18 OWNER_DESCR\n19 DAYS_TO_CONT\n20 DISCOVERY_HOUR\n21 DISCOVERY_MINUTE\n22 CONT_MINUTE\n23 CONT_HOUR\n"
    }
   ],
   "source": [
    "ctr = 0\n",
    "for col in fires_df.columns:\n",
    "    ctr += 1\n",
    "    print(ctr, col)\n"
   ]
  },
  {
   "cell_type": "code",
   "execution_count": 21,
   "metadata": {},
   "outputs": [
    {
     "data": {
      "text/plain": "Debris Burning       429028\nMiscellaneous        323805\nArson                281455\nLightning            278468\nMissing/Undefined    166723\nEquipment Use        147612\nCampfire              76139\nChildren              61167\nSmoking               52869\nRailroad              33455\nPowerline             14448\nFireworks             11500\nStructure              3796\nName: STAT_CAUSE_DESCR, dtype: int64"
     },
     "execution_count": 21,
     "metadata": {},
     "output_type": "execute_result"
    }
   ],
   "source": [
    "fires_df.STAT_CAUSE_DESCR.value_counts()"
   ]
  },
  {
   "cell_type": "code",
   "execution_count": 61,
   "metadata": {},
   "outputs": [],
   "source": [
    "# build datetime for CONT and DISCOVERY Dates \n",
    "# if cont doy less than discovery doy add 1 to year\n",
    "# make new column for CONT and DISCOVERY\n",
    "disc_dates = []\n",
    "cont_dates = []\n",
    "for row in fires_df.itertuples():\n",
    "    Dyr = int(row[3])\n",
    "    Ddy = int(row[4])\n",
    "    Dhr = int(row[20])\n",
    "    Cdy = int(row[6])\n",
    "    Chr = int(row[22])\n",
    "    if Cdy < Ddy:\n",
    "        Cyr = int(row[3]) + 1 \n",
    "    else:\n",
    "        Cyr = int(row[3])\n",
    "    try:\n",
    "        Dmn = int(row[21])\n",
    "    except ValueError as De:\n",
    "        Dmn = 00\n",
    "    try:\n",
    "        Cmn = int(row[23])\n",
    "    except ValueError as Ce:\n",
    "        Cmn = 00\n",
    "    DYr,DMo,DDa = ymd(Dyr,Ddy)\n",
    "    CYr,CMo,CDa = ymd(Cyr,Cdy)\n",
    "    disc_dates.append(datetime.datetime(DYr,DMo,DDa,Dhr,Dmn))\n",
    "    cont_dates.append(datetime.datetime(CYr,CMo,CDa,Chr,Cmn))"
   ]
  },
  {
   "cell_type": "code",
   "execution_count": 62,
   "metadata": {},
   "outputs": [
    {
     "name": "stdout",
     "output_type": "stream",
     "text": "1880465 1880465\n"
    }
   ],
   "source": [
    "print(len(disc_dates),len(cont_dates))"
   ]
  },
  {
   "cell_type": "code",
   "execution_count": 63,
   "metadata": {},
   "outputs": [],
   "source": [
    "fires_df['DISCOVERY_DATE'] = disc_dates"
   ]
  },
  {
   "cell_type": "code",
   "execution_count": 64,
   "metadata": {},
   "outputs": [],
   "source": [
    "fires_df['CONT_DATE'] = cont_dates"
   ]
  },
  {
   "cell_type": "code",
   "execution_count": 65,
   "metadata": {},
   "outputs": [
    {
     "data": {
      "text/html": "<div>\n<style scoped>\n    .dataframe tbody tr th:only-of-type {\n        vertical-align: middle;\n    }\n\n    .dataframe tbody tr th {\n        vertical-align: top;\n    }\n\n    .dataframe thead th {\n        text-align: right;\n    }\n</style>\n<table border=\"1\" class=\"dataframe\">\n  <thead>\n    <tr style=\"text-align: right;\">\n      <th></th>\n      <th>FPA_ID</th>\n      <th>FIRE_NAME</th>\n      <th>FIRE_YEAR</th>\n      <th>DISCOVERY_DOY</th>\n      <th>DISCOVERY_TIME</th>\n      <th>CONT_DOY</th>\n      <th>CONT_TIME</th>\n      <th>FIRE_SIZE</th>\n      <th>FIRE_SIZE_CLASS</th>\n      <th>LATITUDE</th>\n      <th>...</th>\n      <th>STAT_CAUSE_DESCR</th>\n      <th>OWNER_CODE</th>\n      <th>OWNER_DESCR</th>\n      <th>DAYS_TO_CONT</th>\n      <th>DISCOVERY_HOUR</th>\n      <th>DISCOVERY_MINUTE</th>\n      <th>CONT_HOUR</th>\n      <th>CONT_MINUTE</th>\n      <th>DISCOVERY_DATE</th>\n      <th>CONT_DATE</th>\n    </tr>\n  </thead>\n  <tbody>\n    <tr>\n      <th>0</th>\n      <td>FS-1418826</td>\n      <td>FOUNTAIN</td>\n      <td>2005</td>\n      <td>33</td>\n      <td>1300</td>\n      <td>33</td>\n      <td>1730</td>\n      <td>0.1</td>\n      <td>A</td>\n      <td>40.0369</td>\n      <td>...</td>\n      <td>Miscellaneous</td>\n      <td>5</td>\n      <td>USFS</td>\n      <td>0</td>\n      <td>13</td>\n      <td>00</td>\n      <td>17</td>\n      <td>30</td>\n      <td>2005-02-02 13:00:00</td>\n      <td>2005-02-02 17:30:00</td>\n    </tr>\n    <tr>\n      <th>1</th>\n      <td>FS-1418827</td>\n      <td>PIGEON</td>\n      <td>2004</td>\n      <td>133</td>\n      <td>0845</td>\n      <td>133</td>\n      <td>1530</td>\n      <td>0.25</td>\n      <td>A</td>\n      <td>38.9331</td>\n      <td>...</td>\n      <td>Lightning</td>\n      <td>5</td>\n      <td>USFS</td>\n      <td>0</td>\n      <td>08</td>\n      <td>45</td>\n      <td>15</td>\n      <td>30</td>\n      <td>2004-05-12 08:45:00</td>\n      <td>2004-05-12 15:30:00</td>\n    </tr>\n    <tr>\n      <th>2</th>\n      <td>FS-1418835</td>\n      <td>SLACK</td>\n      <td>2004</td>\n      <td>152</td>\n      <td>1921</td>\n      <td>152</td>\n      <td>2024</td>\n      <td>0.1</td>\n      <td>A</td>\n      <td>38.9842</td>\n      <td>...</td>\n      <td>Debris Burning</td>\n      <td>13</td>\n      <td>STATE OR PRIVATE</td>\n      <td>0</td>\n      <td>19</td>\n      <td>21</td>\n      <td>20</td>\n      <td>24</td>\n      <td>2004-05-31 19:21:00</td>\n      <td>2004-05-31 20:24:00</td>\n    </tr>\n    <tr>\n      <th>3</th>\n      <td>FS-1418845</td>\n      <td>DEER</td>\n      <td>2004</td>\n      <td>180</td>\n      <td>1600</td>\n      <td>185</td>\n      <td>1400</td>\n      <td>0.1</td>\n      <td>A</td>\n      <td>38.5592</td>\n      <td>...</td>\n      <td>Lightning</td>\n      <td>5</td>\n      <td>USFS</td>\n      <td>5</td>\n      <td>16</td>\n      <td>00</td>\n      <td>14</td>\n      <td>00</td>\n      <td>2004-06-28 16:00:00</td>\n      <td>2004-07-03 14:00:00</td>\n    </tr>\n    <tr>\n      <th>4</th>\n      <td>FS-1418847</td>\n      <td>STEVENOT</td>\n      <td>2004</td>\n      <td>180</td>\n      <td>1600</td>\n      <td>185</td>\n      <td>1200</td>\n      <td>0.1</td>\n      <td>A</td>\n      <td>38.5592</td>\n      <td>...</td>\n      <td>Lightning</td>\n      <td>5</td>\n      <td>USFS</td>\n      <td>5</td>\n      <td>16</td>\n      <td>00</td>\n      <td>12</td>\n      <td>00</td>\n      <td>2004-06-28 16:00:00</td>\n      <td>2004-07-03 12:00:00</td>\n    </tr>\n  </tbody>\n</table>\n<p>5 rows × 25 columns</p>\n</div>",
      "text/plain": "       FPA_ID FIRE_NAME FIRE_YEAR DISCOVERY_DOY DISCOVERY_TIME CONT_DOY  \\\n0  FS-1418826  FOUNTAIN      2005            33           1300       33   \n1  FS-1418827    PIGEON      2004           133           0845      133   \n2  FS-1418835     SLACK      2004           152           1921      152   \n3  FS-1418845      DEER      2004           180           1600      185   \n4  FS-1418847  STEVENOT      2004           180           1600      185   \n\n  CONT_TIME FIRE_SIZE FIRE_SIZE_CLASS LATITUDE  ... STAT_CAUSE_DESCR  \\\n0      1730       0.1               A  40.0369  ...    Miscellaneous   \n1      1530      0.25               A  38.9331  ...        Lightning   \n2      2024       0.1               A  38.9842  ...   Debris Burning   \n3      1400       0.1               A  38.5592  ...        Lightning   \n4      1200       0.1               A  38.5592  ...        Lightning   \n\n  OWNER_CODE       OWNER_DESCR DAYS_TO_CONT DISCOVERY_HOUR DISCOVERY_MINUTE  \\\n0          5              USFS            0             13               00   \n1          5              USFS            0             08               45   \n2         13  STATE OR PRIVATE            0             19               21   \n3          5              USFS            5             16               00   \n4          5              USFS            5             16               00   \n\n  CONT_HOUR CONT_MINUTE      DISCOVERY_DATE           CONT_DATE  \n0        17          30 2005-02-02 13:00:00 2005-02-02 17:30:00  \n1        15          30 2004-05-12 08:45:00 2004-05-12 15:30:00  \n2        20          24 2004-05-31 19:21:00 2004-05-31 20:24:00  \n3        14          00 2004-06-28 16:00:00 2004-07-03 14:00:00  \n4        12          00 2004-06-28 16:00:00 2004-07-03 12:00:00  \n\n[5 rows x 25 columns]"
     },
     "execution_count": 65,
     "metadata": {},
     "output_type": "execute_result"
    }
   ],
   "source": [
    "fires_df.head()"
   ]
  },
  {
   "cell_type": "code",
   "execution_count": 73,
   "metadata": {},
   "outputs": [],
   "source": [
    "Viz_df = fires_df[['FPA_ID','FIRE_NAME','FIRE_YEAR','FIRE_SIZE','FIRE_SIZE_CLASS','LATITUDE','LONGITUDE','STATE','FIPS_CODE','FIPS_NAME','STAT_CAUSE_DESCR','OWNER_CODE','OWNER_DESCR','DAYS_TO_CONT','DISCOVERY_DATE','CONT_DATE']]"
   ]
  },
  {
   "cell_type": "code",
   "execution_count": 74,
   "metadata": {},
   "outputs": [
    {
     "data": {
      "text/html": "<div>\n<style scoped>\n    .dataframe tbody tr th:only-of-type {\n        vertical-align: middle;\n    }\n\n    .dataframe tbody tr th {\n        vertical-align: top;\n    }\n\n    .dataframe thead th {\n        text-align: right;\n    }\n</style>\n<table border=\"1\" class=\"dataframe\">\n  <thead>\n    <tr style=\"text-align: right;\">\n      <th></th>\n      <th>FPA_ID</th>\n      <th>FIRE_NAME</th>\n      <th>FIRE_YEAR</th>\n      <th>FIRE_SIZE</th>\n      <th>FIRE_SIZE_CLASS</th>\n      <th>LATITUDE</th>\n      <th>LONGITUDE</th>\n      <th>STATE</th>\n      <th>FIPS_CODE</th>\n      <th>FIPS_NAME</th>\n      <th>STAT_CAUSE_DESCR</th>\n      <th>OWNER_CODE</th>\n      <th>OWNER_DESCR</th>\n      <th>DAYS_TO_CONT</th>\n      <th>DISCOVERY_DATE</th>\n      <th>CONT_DATE</th>\n    </tr>\n  </thead>\n  <tbody>\n    <tr>\n      <th>0</th>\n      <td>FS-1418826</td>\n      <td>FOUNTAIN</td>\n      <td>2005</td>\n      <td>0.1</td>\n      <td>A</td>\n      <td>40.0369</td>\n      <td>-121.006</td>\n      <td>CA</td>\n      <td>063</td>\n      <td>Plumas</td>\n      <td>Miscellaneous</td>\n      <td>5</td>\n      <td>USFS</td>\n      <td>0.0</td>\n      <td>2005-02-02 13:00:00</td>\n      <td>2005-02-02 17:30:00</td>\n    </tr>\n    <tr>\n      <th>1</th>\n      <td>FS-1418827</td>\n      <td>PIGEON</td>\n      <td>2004</td>\n      <td>0.25</td>\n      <td>A</td>\n      <td>38.9331</td>\n      <td>-120.404</td>\n      <td>CA</td>\n      <td>061</td>\n      <td>Placer</td>\n      <td>Lightning</td>\n      <td>5</td>\n      <td>USFS</td>\n      <td>0.0</td>\n      <td>2004-05-12 08:45:00</td>\n      <td>2004-05-12 15:30:00</td>\n    </tr>\n    <tr>\n      <th>2</th>\n      <td>FS-1418835</td>\n      <td>SLACK</td>\n      <td>2004</td>\n      <td>0.1</td>\n      <td>A</td>\n      <td>38.9842</td>\n      <td>-120.736</td>\n      <td>CA</td>\n      <td>017</td>\n      <td>El Dorado</td>\n      <td>Debris Burning</td>\n      <td>13</td>\n      <td>STATE OR PRIVATE</td>\n      <td>0.0</td>\n      <td>2004-05-31 19:21:00</td>\n      <td>2004-05-31 20:24:00</td>\n    </tr>\n    <tr>\n      <th>3</th>\n      <td>FS-1418845</td>\n      <td>DEER</td>\n      <td>2004</td>\n      <td>0.1</td>\n      <td>A</td>\n      <td>38.5592</td>\n      <td>-119.913</td>\n      <td>CA</td>\n      <td>003</td>\n      <td>Alpine</td>\n      <td>Lightning</td>\n      <td>5</td>\n      <td>USFS</td>\n      <td>5.0</td>\n      <td>2004-06-28 16:00:00</td>\n      <td>2004-07-03 14:00:00</td>\n    </tr>\n    <tr>\n      <th>4</th>\n      <td>FS-1418847</td>\n      <td>STEVENOT</td>\n      <td>2004</td>\n      <td>0.1</td>\n      <td>A</td>\n      <td>38.5592</td>\n      <td>-119.933</td>\n      <td>CA</td>\n      <td>003</td>\n      <td>Alpine</td>\n      <td>Lightning</td>\n      <td>5</td>\n      <td>USFS</td>\n      <td>5.0</td>\n      <td>2004-06-28 16:00:00</td>\n      <td>2004-07-03 12:00:00</td>\n    </tr>\n    <tr>\n      <th>5</th>\n      <td>FS-1418849</td>\n      <td>HIDDEN</td>\n      <td>2004</td>\n      <td>0.1</td>\n      <td>A</td>\n      <td>38.6353</td>\n      <td>-120.104</td>\n      <td>CA</td>\n      <td>005</td>\n      <td>Amador</td>\n      <td>Lightning</td>\n      <td>5</td>\n      <td>USFS</td>\n      <td>1.0</td>\n      <td>2004-06-30 18:00:00</td>\n      <td>2004-07-01 16:00:00</td>\n    </tr>\n    <tr>\n      <th>6</th>\n      <td>FS-1418851</td>\n      <td>FORK</td>\n      <td>2004</td>\n      <td>0.1</td>\n      <td>A</td>\n      <td>38.6883</td>\n      <td>-120.153</td>\n      <td>CA</td>\n      <td>017</td>\n      <td>El Dorado</td>\n      <td>Lightning</td>\n      <td>5</td>\n      <td>USFS</td>\n      <td>1.0</td>\n      <td>2004-07-01 18:00:00</td>\n      <td>2004-07-02 14:00:00</td>\n    </tr>\n    <tr>\n      <th>7</th>\n      <td>FS-1418854</td>\n      <td>SLATE</td>\n      <td>2005</td>\n      <td>0.8</td>\n      <td>B</td>\n      <td>40.9681</td>\n      <td>-122.434</td>\n      <td>CA</td>\n      <td>67</td>\n      <td>None</td>\n      <td>Debris Burning</td>\n      <td>13</td>\n      <td>STATE OR PRIVATE</td>\n      <td>0.0</td>\n      <td>2005-03-08 13:00:00</td>\n      <td>2005-03-08 16:00:00</td>\n    </tr>\n    <tr>\n      <th>8</th>\n      <td>FS-1418856</td>\n      <td>SHASTA</td>\n      <td>2005</td>\n      <td>1</td>\n      <td>B</td>\n      <td>41.2336</td>\n      <td>-122.283</td>\n      <td>CA</td>\n      <td>67</td>\n      <td>None</td>\n      <td>Debris Burning</td>\n      <td>13</td>\n      <td>STATE OR PRIVATE</td>\n      <td>0.0</td>\n      <td>2005-03-15 12:00:00</td>\n      <td>2005-03-15 17:00:00</td>\n    </tr>\n    <tr>\n      <th>9</th>\n      <td>FS-1418859</td>\n      <td>TANGLEFOOT</td>\n      <td>2004</td>\n      <td>0.1</td>\n      <td>A</td>\n      <td>38.5483</td>\n      <td>-120.149</td>\n      <td>CA</td>\n      <td>005</td>\n      <td>Amador</td>\n      <td>Lightning</td>\n      <td>5</td>\n      <td>USFS</td>\n      <td>1.0</td>\n      <td>2004-07-01 18:00:00</td>\n      <td>2004-07-02 18:00:00</td>\n    </tr>\n  </tbody>\n</table>\n</div>",
      "text/plain": "       FPA_ID   FIRE_NAME FIRE_YEAR FIRE_SIZE FIRE_SIZE_CLASS LATITUDE  \\\n0  FS-1418826    FOUNTAIN      2005       0.1               A  40.0369   \n1  FS-1418827      PIGEON      2004      0.25               A  38.9331   \n2  FS-1418835       SLACK      2004       0.1               A  38.9842   \n3  FS-1418845        DEER      2004       0.1               A  38.5592   \n4  FS-1418847    STEVENOT      2004       0.1               A  38.5592   \n5  FS-1418849      HIDDEN      2004       0.1               A  38.6353   \n6  FS-1418851        FORK      2004       0.1               A  38.6883   \n7  FS-1418854       SLATE      2005       0.8               B  40.9681   \n8  FS-1418856      SHASTA      2005         1               B  41.2336   \n9  FS-1418859  TANGLEFOOT      2004       0.1               A  38.5483   \n\n  LONGITUDE STATE FIPS_CODE  FIPS_NAME STAT_CAUSE_DESCR OWNER_CODE  \\\n0  -121.006    CA       063     Plumas    Miscellaneous          5   \n1  -120.404    CA       061     Placer        Lightning          5   \n2  -120.736    CA       017  El Dorado   Debris Burning         13   \n3  -119.913    CA       003     Alpine        Lightning          5   \n4  -119.933    CA       003     Alpine        Lightning          5   \n5  -120.104    CA       005     Amador        Lightning          5   \n6  -120.153    CA       017  El Dorado        Lightning          5   \n7  -122.434    CA        67       None   Debris Burning         13   \n8  -122.283    CA        67       None   Debris Burning         13   \n9  -120.149    CA       005     Amador        Lightning          5   \n\n        OWNER_DESCR  DAYS_TO_CONT      DISCOVERY_DATE           CONT_DATE  \n0              USFS           0.0 2005-02-02 13:00:00 2005-02-02 17:30:00  \n1              USFS           0.0 2004-05-12 08:45:00 2004-05-12 15:30:00  \n2  STATE OR PRIVATE           0.0 2004-05-31 19:21:00 2004-05-31 20:24:00  \n3              USFS           5.0 2004-06-28 16:00:00 2004-07-03 14:00:00  \n4              USFS           5.0 2004-06-28 16:00:00 2004-07-03 12:00:00  \n5              USFS           1.0 2004-06-30 18:00:00 2004-07-01 16:00:00  \n6              USFS           1.0 2004-07-01 18:00:00 2004-07-02 14:00:00  \n7  STATE OR PRIVATE           0.0 2005-03-08 13:00:00 2005-03-08 16:00:00  \n8  STATE OR PRIVATE           0.0 2005-03-15 12:00:00 2005-03-15 17:00:00  \n9              USFS           1.0 2004-07-01 18:00:00 2004-07-02 18:00:00  "
     },
     "execution_count": 74,
     "metadata": {},
     "output_type": "execute_result"
    }
   ],
   "source": [
    "Viz_df.head(10)"
   ]
  },
  {
   "cell_type": "code",
   "execution_count": 24,
   "metadata": {},
   "outputs": [],
   "source": [
    "## Setup Mongo DB\n",
    "client = pymongo.MongoClient()"
   ]
  },
  {
   "cell_type": "code",
   "execution_count": 25,
   "metadata": {},
   "outputs": [],
   "source": [
    "## Build DataBase\n",
    "db = client.Project_2_db\n",
    "fires = db.fires"
   ]
  },
  {
   "cell_type": "code",
   "execution_count": 77,
   "metadata": {},
   "outputs": [
    {
     "data": {
      "text/plain": "<pymongo.results.InsertManyResult at 0x2327cc84688>"
     },
     "execution_count": 77,
     "metadata": {},
     "output_type": "execute_result"
    }
   ],
   "source": [
    "fires.insert_many(Viz_df.to_dict('records'))"
   ]
  },
  {
   "cell_type": "code",
   "execution_count": 26,
   "metadata": {},
   "outputs": [
    {
     "data": {
      "text/plain": "'year'"
     },
     "execution_count": 26,
     "metadata": {},
     "output_type": "execute_result"
    }
   ],
   "source": [
    "fires.create_index([(\"FIRE_YEAR\", pymongo.ASCENDING)],name='year',unique=False)"
   ]
  },
  {
   "cell_type": "code",
   "execution_count": 27,
   "metadata": {},
   "outputs": [
    {
     "data": {
      "text/plain": "'cause'"
     },
     "execution_count": 27,
     "metadata": {},
     "output_type": "execute_result"
    }
   ],
   "source": [
    "fires.create_index([(\"STAT_CAUSE_DESCR\", pymongo.ASCENDING)],name='cause',unique=False)"
   ]
  },
  {
   "cell_type": "code",
   "execution_count": 28,
   "metadata": {},
   "outputs": [
    {
     "data": {
      "text/plain": "'state'"
     },
     "execution_count": 28,
     "metadata": {},
     "output_type": "execute_result"
    }
   ],
   "source": [
    "fires.create_index([(\"STATE\", pymongo.ASCENDING)],name='state',unique=False)"
   ]
  },
  {
   "cell_type": "code",
   "execution_count": 29,
   "metadata": {},
   "outputs": [
    {
     "data": {
      "text/plain": "'disc_date'"
     },
     "execution_count": 29,
     "metadata": {},
     "output_type": "execute_result"
    }
   ],
   "source": [
    "fires.create_index([(\"DISCOVERY_DATE\", pymongo.ASCENDING)],name='disc_date',unique=False)"
   ]
  },
  {
   "cell_type": "code",
   "execution_count": 30,
   "metadata": {},
   "outputs": [
    {
     "data": {
      "text/plain": "'cont_date'"
     },
     "execution_count": 30,
     "metadata": {},
     "output_type": "execute_result"
    }
   ],
   "source": [
    "fires.create_index([(\"CONT_DATE\", pymongo.ASCENDING)],name='cont_date',unique=False)"
   ]
  },
  {
   "cell_type": "code",
   "execution_count": null,
   "metadata": {},
   "outputs": [],
   "source": []
  }
 ]
}