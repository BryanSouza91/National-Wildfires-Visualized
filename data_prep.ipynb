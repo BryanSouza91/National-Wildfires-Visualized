{
 "nbformat": 4,
 "nbformat_minor": 2,
 "metadata": {
  "language_info": {
   "name": "python",
   "codemirror_mode": {
    "name": "ipython",
    "version": 3
   },
   "version": "3.7.5-final"
  },
  "orig_nbformat": 2,
  "file_extension": ".py",
  "mimetype": "text/x-python",
  "name": "python",
  "npconvert_exporter": "python",
  "pygments_lexer": "ipython3",
  "version": 3,
  "kernelspec": {
   "name": "python37564bitdataanalyticsconda91688bd36d7c414b924baeafbaaa4569",
   "display_name": "Python 3.7.5 64-bit ('DataAnalytics': conda)"
  }
 },
 "cells": [
  {
   "cell_type": "markdown",
   "execution_count": null,
   "metadata": {},
   "outputs": [],
   "source": [
    "# Preparing the Dataset"
   ]
  },
  {
   "cell_type": "code",
   "execution_count": 1,
   "metadata": {},
   "outputs": [],
   "source": [
    "import numpy as np\n",
    "import pandas as pd\n",
    "import os\n",
    "import pymongo"
   ]
  },
  {
   "cell_type": "code",
   "execution_count": 2,
   "metadata": {},
   "outputs": [],
   "source": [
    "npy_file = os.path.join(\"data\",\"Fire_Data.npy\")"
   ]
  },
  {
   "cell_type": "code",
   "execution_count": 3,
   "metadata": {},
   "outputs": [],
   "source": [
    "pickle = np.load(npy_file, allow_pickle=True)"
   ]
  },
  {
   "cell_type": "code",
   "execution_count": 4,
   "metadata": {},
   "outputs": [],
   "source": [
    "fires_df = pd.DataFrame(pickle, columns=['FPA_ID','FIRE_NAME','FIRE_YEAR','DISCOVERY_DOY','DISCOVERY_TIME','CONT_DOY','CONT_TIME','FIRE_SIZE','FIRE_SIZE_CLASS','LATITUDE','LONGITUDE','STATE','COUNTY','FIPS_CODE','FIPS_NAME','STAT_CAUSE_DESCR','OWNER_CODE','OWNER_DESCR','DAYS_TO_CONT'])"
   ]
  },
  {
   "cell_type": "code",
   "execution_count": 5,
   "metadata": {},
   "outputs": [
    {
     "data": {
      "text/html": "<div>\n<style scoped>\n    .dataframe tbody tr th:only-of-type {\n        vertical-align: middle;\n    }\n\n    .dataframe tbody tr th {\n        vertical-align: top;\n    }\n\n    .dataframe thead th {\n        text-align: right;\n    }\n</style>\n<table border=\"1\" class=\"dataframe\">\n  <thead>\n    <tr style=\"text-align: right;\">\n      <th></th>\n      <th>FPA_ID</th>\n      <th>FIRE_NAME</th>\n      <th>FIRE_YEAR</th>\n      <th>DISCOVERY_DOY</th>\n      <th>DISCOVERY_TIME</th>\n      <th>CONT_DOY</th>\n      <th>CONT_TIME</th>\n      <th>FIRE_SIZE</th>\n      <th>FIRE_SIZE_CLASS</th>\n      <th>LATITUDE</th>\n      <th>LONGITUDE</th>\n      <th>STATE</th>\n      <th>COUNTY</th>\n      <th>FIPS_CODE</th>\n      <th>FIPS_NAME</th>\n      <th>STAT_CAUSE_DESCR</th>\n      <th>OWNER_CODE</th>\n      <th>OWNER_DESCR</th>\n      <th>DAYS_TO_CONT</th>\n    </tr>\n  </thead>\n  <tbody>\n    <tr>\n      <th>0</th>\n      <td>FS-1418826</td>\n      <td>FOUNTAIN</td>\n      <td>2005</td>\n      <td>33</td>\n      <td>1300</td>\n      <td>33</td>\n      <td>1730</td>\n      <td>0.1</td>\n      <td>A</td>\n      <td>40.0369</td>\n      <td>-121.006</td>\n      <td>CA</td>\n      <td>63</td>\n      <td>063</td>\n      <td>Plumas</td>\n      <td>Miscellaneous</td>\n      <td>5</td>\n      <td>USFS</td>\n      <td>0</td>\n    </tr>\n    <tr>\n      <th>1</th>\n      <td>FS-1418827</td>\n      <td>PIGEON</td>\n      <td>2004</td>\n      <td>133</td>\n      <td>0845</td>\n      <td>133</td>\n      <td>1530</td>\n      <td>0.25</td>\n      <td>A</td>\n      <td>38.9331</td>\n      <td>-120.404</td>\n      <td>CA</td>\n      <td>61</td>\n      <td>061</td>\n      <td>Placer</td>\n      <td>Lightning</td>\n      <td>5</td>\n      <td>USFS</td>\n      <td>0</td>\n    </tr>\n    <tr>\n      <th>2</th>\n      <td>FS-1418835</td>\n      <td>SLACK</td>\n      <td>2004</td>\n      <td>152</td>\n      <td>1921</td>\n      <td>152</td>\n      <td>2024</td>\n      <td>0.1</td>\n      <td>A</td>\n      <td>38.9842</td>\n      <td>-120.736</td>\n      <td>CA</td>\n      <td>17</td>\n      <td>017</td>\n      <td>El Dorado</td>\n      <td>Debris Burning</td>\n      <td>13</td>\n      <td>STATE OR PRIVATE</td>\n      <td>0</td>\n    </tr>\n    <tr>\n      <th>3</th>\n      <td>FS-1418845</td>\n      <td>DEER</td>\n      <td>2004</td>\n      <td>180</td>\n      <td>1600</td>\n      <td>185</td>\n      <td>1400</td>\n      <td>0.1</td>\n      <td>A</td>\n      <td>38.5592</td>\n      <td>-119.913</td>\n      <td>CA</td>\n      <td>3</td>\n      <td>003</td>\n      <td>Alpine</td>\n      <td>Lightning</td>\n      <td>5</td>\n      <td>USFS</td>\n      <td>5</td>\n    </tr>\n    <tr>\n      <th>4</th>\n      <td>FS-1418847</td>\n      <td>STEVENOT</td>\n      <td>2004</td>\n      <td>180</td>\n      <td>1600</td>\n      <td>185</td>\n      <td>1200</td>\n      <td>0.1</td>\n      <td>A</td>\n      <td>38.5592</td>\n      <td>-119.933</td>\n      <td>CA</td>\n      <td>3</td>\n      <td>003</td>\n      <td>Alpine</td>\n      <td>Lightning</td>\n      <td>5</td>\n      <td>USFS</td>\n      <td>5</td>\n    </tr>\n  </tbody>\n</table>\n</div>",
      "text/plain": "       FPA_ID FIRE_NAME FIRE_YEAR DISCOVERY_DOY DISCOVERY_TIME CONT_DOY  \\\n0  FS-1418826  FOUNTAIN      2005            33           1300       33   \n1  FS-1418827    PIGEON      2004           133           0845      133   \n2  FS-1418835     SLACK      2004           152           1921      152   \n3  FS-1418845      DEER      2004           180           1600      185   \n4  FS-1418847  STEVENOT      2004           180           1600      185   \n\n  CONT_TIME FIRE_SIZE FIRE_SIZE_CLASS LATITUDE LONGITUDE STATE COUNTY  \\\n0      1730       0.1               A  40.0369  -121.006    CA     63   \n1      1530      0.25               A  38.9331  -120.404    CA     61   \n2      2024       0.1               A  38.9842  -120.736    CA     17   \n3      1400       0.1               A  38.5592  -119.913    CA      3   \n4      1200       0.1               A  38.5592  -119.933    CA      3   \n\n  FIPS_CODE  FIPS_NAME STAT_CAUSE_DESCR OWNER_CODE       OWNER_DESCR  \\\n0       063     Plumas    Miscellaneous          5              USFS   \n1       061     Placer        Lightning          5              USFS   \n2       017  El Dorado   Debris Burning         13  STATE OR PRIVATE   \n3       003     Alpine        Lightning          5              USFS   \n4       003     Alpine        Lightning          5              USFS   \n\n  DAYS_TO_CONT  \n0            0  \n1            0  \n2            0  \n3            5  \n4            5  "
     },
     "execution_count": 5,
     "metadata": {},
     "output_type": "execute_result"
    }
   ],
   "source": [
    "fires_df.head()"
   ]
  },
  {
   "cell_type": "code",
   "execution_count": 6,
   "metadata": {},
   "outputs": [],
   "source": [
    "## Setup Mongo DB\n",
    "client = pymongo.MongoClient()"
   ]
  },
  {
   "cell_type": "code",
   "execution_count": 7,
   "metadata": {},
   "outputs": [],
   "source": [
    "## Build DataBase\n",
    "db = client.Project_2_db\n",
    "fires = db.fires"
   ]
  },
  {
   "cell_type": "code",
   "execution_count": 8,
   "metadata": {},
   "outputs": [
    {
     "data": {
      "text/plain": "<pymongo.results.InsertManyResult at 0x25666f8bbc8>"
     },
     "execution_count": 8,
     "metadata": {},
     "output_type": "execute_result"
    }
   ],
   "source": [
    "fires.insert_many(fires_df.to_dict('records'))"
   ]
  },
  {
   "cell_type": "code",
   "execution_count": null,
   "metadata": {},
   "outputs": [],
   "source": []
  }
 ]
}